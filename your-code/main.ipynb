{
 "cells": [
  {
   "cell_type": "markdown",
   "metadata": {},
   "source": [
    "# Before your start:\n",
    "\n",
    "    Read the README.md file\n",
    "    Comment as much as you can and use the resources (README.md file)\n",
    "    Happy learning!"
   ]
  },
  {
   "cell_type": "code",
   "execution_count": null,
   "metadata": {},
   "outputs": [],
   "source": []
  },
  {
   "cell_type": "markdown",
   "metadata": {},
   "source": [
    "In this exercise, we  will generate random numbers from the continuous disributions we learned in the lesson. There are two ways to generate random numbers:\n",
    "\n",
    "1. Using the numpy library \n",
    "1. using the Scipy library \n",
    "\n",
    "Use either or both of the lbraries in this exercise."
   ]
  },
  {
   "cell_type": "markdown",
   "metadata": {},
   "source": [
    "## Uniform Distribution\n",
    "\n",
    "To generate uniform random numbers between any two given values using scipy, we can either use the following code or the code that we have\n",
    "discussed in class:"
   ]
  },
  {
   "cell_type": "code",
   "execution_count": 3,
   "metadata": {},
   "outputs": [
    {
     "name": "stdout",
     "output_type": "stream",
     "text": [
      "[2.81204073 2.32503882 2.83243945 2.16522622 2.63713148 2.15206036\n",
      " 2.4925944  2.41789868 2.24966544 2.21753798]\n"
     ]
    }
   ],
   "source": [
    "from scipy.stats import uniform\n",
    "x = uniform.rvs(size=10)\n",
    "a = 2\n",
    "b = 3\n",
    "randoms  = a + (b-a)*x\n",
    "print(randoms)"
   ]
  },
  {
   "cell_type": "code",
   "execution_count": 4,
   "metadata": {},
   "outputs": [],
   "source": [
    "import numpy as np\n",
    "from matplotlib import pyplot as plt\n",
    "%matplotlib inline\n",
    "%config Inlinebackend.figure_format = 'retina'\n",
    "\n",
    "import scipy.stats\n",
    "from scipy.stats import binom\n",
    "from scipy.stats import poisson\n",
    "\n",
    "import seaborn as sns\n",
    "sns.set_context('poster')\n",
    "sns.set(rc={'figure.figsize': (16., 9.)})\n",
    "sns.set_style('whitegrid')"
   ]
  },
  {
   "cell_type": "markdown",
   "metadata": {},
   "source": [
    "**Your task:**\n",
    "\n",
    "1. Based on the code above, write a function that generates uniformly distributed random numbers. There are several requirements for your function:\n",
    "    * It should accept 3 parameters: \n",
    "        * `bottom` - the lower boundary of the generated numbers\n",
    "        * `ceiling` - the upper boundary of the generated numbers\n",
    "        * `count` - how many numbers to generate\n",
    "    * It should return an array of uniformly distributed random numbers\n",
    "\n",
    "1. Call your function with 2 sets of params below:\n",
    "    * bottom=10, ceiling=15, count=100\n",
    "    * bottom=10, ceiling=60, count=1,000\n",
    "\n",
    "1. Plot the uniform distributions generated above using histograms, where x axis is the value and y axis is the count. Let the histogram's number of bins be 10.\n",
    "\n",
    "Your output should look like below:\n",
    "\n",
    "![uniform distribution](ud.png)"
   ]
  },
  {
   "cell_type": "code",
   "execution_count": 5,
   "metadata": {},
   "outputs": [],
   "source": [
    "# your code here\n",
    "def unif_generator(bottom, ceiling, count):\n",
    "    return bottom + (ceiling-bottom)*uniform.rvs(size=count)"
   ]
  },
  {
   "cell_type": "markdown",
   "metadata": {},
   "source": [
    "How are the two distributions different?"
   ]
  },
  {
   "cell_type": "code",
   "execution_count": 6,
   "metadata": {},
   "outputs": [
    {
     "data": {
      "text/plain": [
       "array([10.55472851, 14.52509323, 14.05315241, 12.91757066, 12.59571141,\n",
       "       12.19721298, 10.45032948, 11.81255791, 11.08026197, 13.81542447,\n",
       "       10.10438224, 10.7999571 , 10.46678648, 13.03164599, 12.90474224,\n",
       "       10.11512151, 14.21496139, 11.97126993, 12.83067229, 13.15243757,\n",
       "       10.90971329, 12.46898825, 12.32535245, 14.6038439 , 10.19088699,\n",
       "       12.0783668 , 14.44870432, 11.46466092, 13.42315797, 13.46855228,\n",
       "       10.41188593, 14.22169148, 13.52465396, 14.3578836 , 14.55443624,\n",
       "       12.4712928 , 12.68007233, 13.34580267, 13.94907232, 11.8385518 ,\n",
       "       11.70171716, 12.25648315, 12.25319984, 12.34063388, 13.7735748 ,\n",
       "       13.42944703, 11.06721885, 11.04109824, 12.24187962, 10.50202759,\n",
       "       14.97298061, 12.77791599, 14.66917036, 10.25883847, 13.38911569,\n",
       "       14.22148692, 11.79396715, 12.80508621, 14.99308589, 10.48075121,\n",
       "       10.23785579, 12.53100857, 10.50668091, 13.38754083, 11.84603327,\n",
       "       13.06127533, 10.67201606, 13.59950457, 11.73133053, 11.75559039,\n",
       "       13.7815689 , 10.455695  , 10.30063894, 13.86643913, 11.16275527,\n",
       "       10.60234736, 12.83351935, 12.89269375, 10.76863541, 11.74763221,\n",
       "       10.97890934, 10.38924382, 13.53833197, 11.87753334, 13.93686349,\n",
       "       12.17351435, 10.79098516, 14.52670086, 13.88666191, 11.98161708,\n",
       "       12.16816696, 11.35637548, 13.58261585, 14.02954456, 11.33491006,\n",
       "       14.41849396, 13.6786819 , 10.72074633, 14.39470682, 10.15005485])"
      ]
     },
     "execution_count": 6,
     "metadata": {},
     "output_type": "execute_result"
    }
   ],
   "source": [
    "# your answer below\n",
    "unif_generator(10,15,100)"
   ]
  },
  {
   "cell_type": "code",
   "execution_count": 7,
   "metadata": {},
   "outputs": [
    {
     "data": {
      "text/plain": [
       "array([17.54899323, 28.5557815 , 55.93200924, 57.84362972, 45.00175197,\n",
       "       59.38404518, 34.44000487, 29.15212882, 25.73394676, 10.73589425,\n",
       "       24.96153496, 21.43325073, 25.56042184, 12.03186568, 17.59371599,\n",
       "       53.11176621, 31.24475269, 32.55486005, 22.84544676, 17.08953227,\n",
       "       39.5806552 , 54.08883978, 18.9165511 , 16.25695865, 52.62944513,\n",
       "       48.55594492, 33.28795475, 54.70637077, 28.92679768, 17.94443786,\n",
       "       13.99474017, 26.72404098, 21.69782988, 38.62376082, 44.03598404,\n",
       "       44.39991915, 16.09607329, 36.41039739, 46.62052379, 49.47361509,\n",
       "       48.78439975, 43.50488484, 16.8426863 , 12.00813729, 31.06367632,\n",
       "       13.82193994, 48.72640352, 41.54506778, 37.38178999, 15.36524836,\n",
       "       12.29845296, 34.29896768, 17.64030899, 58.68820575, 46.36366528,\n",
       "       30.73617008, 31.46205874, 41.58241077, 26.01926913, 56.20092063,\n",
       "       22.14031603, 45.66212115, 58.64237733, 10.40129239, 54.36130715,\n",
       "       21.09975047, 49.01636379, 47.83743051, 35.5087654 , 12.15597476,\n",
       "       17.78436304, 28.6723467 , 35.47937677, 55.97528266, 18.97874792,\n",
       "       24.5563002 , 43.46105416, 15.06018676, 33.27004743, 48.02882778,\n",
       "       43.06641523, 26.57328662, 35.16627202, 53.42529392, 37.35087448,\n",
       "       40.6906627 , 20.56351772, 16.78027797, 32.80765878, 15.31937521,\n",
       "       58.94462042, 12.3850069 , 35.15189788, 10.24970342, 45.09647897,\n",
       "       36.27965992, 19.57739381, 37.3196931 , 57.6123457 , 41.46007005,\n",
       "       39.50207718, 43.15408281, 41.61581792, 39.48052591, 55.16281998,\n",
       "       17.50728935, 53.76450937, 49.48958327, 45.74486449, 27.33521044,\n",
       "       19.43079835, 13.71371075, 36.82123669, 39.43292544, 23.85044114,\n",
       "       13.10249987, 58.11477713, 24.40716711, 51.20175948, 44.16533599,\n",
       "       27.65383197, 59.66353957, 40.07840989, 12.96857881, 19.8079416 ,\n",
       "       33.31577412, 22.53972372, 10.05507955, 43.73963311, 53.40599379,\n",
       "       29.81995596, 30.36873824, 50.06414679, 17.5359926 , 43.82357859,\n",
       "       21.56564417, 27.98592574, 15.18919192, 51.36091162, 19.25764555,\n",
       "       26.22459668, 45.33951147, 16.47484602, 36.41234041, 55.09151146,\n",
       "       44.80355152, 40.65174501, 45.16533633, 59.94909819, 36.99416498,\n",
       "       54.32949803, 47.6307098 , 12.73724838, 24.73667451, 19.40488606,\n",
       "       23.8955534 , 44.20704333, 19.60362627, 29.21569484, 42.32044131,\n",
       "       16.14861837, 26.94471581, 48.57028093, 10.4017729 , 51.26042155,\n",
       "       41.740408  , 47.63569916, 17.23977634, 32.46047466, 10.40165836,\n",
       "       14.91704015, 31.51046009, 21.58022296, 20.82539484, 47.6187745 ,\n",
       "       28.41725887, 24.88473074, 24.01907178, 52.12050582, 36.73277753,\n",
       "       31.86730839, 40.8484622 , 35.33131835, 39.61959593, 12.82011002,\n",
       "       24.39018168, 29.76170756, 10.86959112, 55.26045816, 30.15745764,\n",
       "       25.98251479, 20.00500901, 15.1695989 , 47.83087214, 29.59545332,\n",
       "       39.2353396 , 58.35007801, 31.80845298, 43.28277149, 55.65072278,\n",
       "       32.33990198, 37.58006091, 35.80218421, 18.45449295, 35.03903283,\n",
       "       32.84914927, 33.98205633, 40.26920813, 37.97264172, 34.5161111 ,\n",
       "       56.76447544, 24.90518956, 14.34281692, 54.36333588, 38.90953699,\n",
       "       20.67725388, 28.28981861, 37.1035699 , 45.9194456 , 16.4443127 ,\n",
       "       17.01714183, 49.34508643, 56.32822667, 24.75656286, 12.61924539,\n",
       "       15.35391238, 43.87336842, 30.96861086, 44.84544124, 39.79451886,\n",
       "       12.90453309, 31.13049396, 34.91618682, 22.00018015, 13.44920383,\n",
       "       48.97004786, 51.37217328, 40.94706858, 32.26872788, 54.16817121,\n",
       "       46.27870246, 56.24814932, 14.38379712, 26.19242567, 27.78238905,\n",
       "       41.21783524, 54.82058177, 35.14224409, 46.42174963, 27.03759769,\n",
       "       39.6319884 , 44.24319192, 58.48535567, 29.81474428, 34.00452796,\n",
       "       36.00874059, 28.36159735, 44.95608535, 33.01785013, 42.5679006 ,\n",
       "       47.60559602, 27.32708362, 46.66592181, 11.02335553, 18.17232893,\n",
       "       10.90734047, 12.1397597 , 29.47759001, 17.0287723 , 36.54773863,\n",
       "       51.35303944, 38.72651171, 52.55229498, 36.14767007, 56.44071185,\n",
       "       52.67568587, 19.48007591, 28.67931253, 45.44743205, 42.34116367,\n",
       "       42.05853171, 51.52604064, 20.69633082, 37.36581487, 40.09199634,\n",
       "       20.76290524, 37.54990685, 29.35526474, 19.48948983, 20.70998198,\n",
       "       27.52445972, 30.33675169, 26.31775205, 17.00305508, 57.18302566,\n",
       "       51.8290533 , 45.47990649, 26.92674553, 43.6962495 , 32.63502063,\n",
       "       24.9768026 , 29.04372678, 11.28406065, 54.39402803, 14.51820028,\n",
       "       20.77339735, 52.67134868, 25.05870821, 22.86276412, 28.33560691,\n",
       "       37.4193994 , 35.84343824, 59.84158249, 41.458913  , 35.9879076 ,\n",
       "       17.33671116, 33.13969271, 57.31500802, 15.33547925, 43.3467366 ,\n",
       "       21.27510115, 29.36309745, 28.79562881, 12.10957545, 51.88394179,\n",
       "       34.85082191, 23.25467302, 46.87800646, 34.60284871, 22.29068139,\n",
       "       40.32856286, 25.61188059, 14.03606208, 57.35300379, 55.75479645,\n",
       "       41.99157234, 46.65669824, 53.22904543, 48.61555446, 37.94487693,\n",
       "       29.4100447 , 47.71617482, 28.82879687, 34.81910067, 20.85861343,\n",
       "       56.68083654, 23.7657676 , 37.61803067, 52.78331962, 16.23356374,\n",
       "       38.91325089, 50.19202   , 48.39676803, 49.9554503 , 45.62654809,\n",
       "       12.93062514, 11.42093705, 19.7024392 , 51.08653401, 14.10627523,\n",
       "       15.96573874, 15.48884696, 44.18709618, 43.22880851, 30.57843548,\n",
       "       13.54518121, 29.78102985, 52.2615881 , 48.35506627, 32.23068454,\n",
       "       52.76526114, 25.73167019, 21.7622245 , 50.31808578, 37.34930991,\n",
       "       48.40307765, 17.76955121, 54.21370207, 57.85105527, 49.57634739,\n",
       "       33.71912441, 59.26580181, 11.9515229 , 52.11753916, 12.3220049 ,\n",
       "       25.03806908, 18.32595807, 32.12133358, 14.67972335, 17.25152444,\n",
       "       37.5233865 , 21.43101999, 16.07969047, 42.7599202 , 14.27717077,\n",
       "       43.649015  , 55.7171809 , 45.83146811, 25.22236142, 47.92076887,\n",
       "       56.69733262, 34.01932256, 24.63358827, 17.59436304, 11.28647957,\n",
       "       48.5383616 , 54.31613885, 22.95594152, 48.67311345, 24.65195769,\n",
       "       20.52491519, 39.28195763, 23.44251807, 26.42714894, 10.65348459,\n",
       "       21.51213511, 47.85143532, 25.065258  , 35.44291707, 20.07181404,\n",
       "       47.32194552, 27.53569445, 17.70249829, 38.26820915, 39.71769394,\n",
       "       20.3236672 , 20.78642981, 42.45443379, 33.78058986, 35.26636001,\n",
       "       35.75605719, 56.88262656, 17.87539452, 45.58767709, 12.83691232,\n",
       "       55.69037163, 59.14253886, 16.4937513 , 50.58819848, 58.93537157,\n",
       "       53.16374781, 15.90162562, 10.2916994 , 54.70026787, 47.27024761,\n",
       "       16.9599859 , 26.24214077, 11.64629296, 10.39961738, 17.74139732,\n",
       "       38.72554291, 26.83668959, 43.94775626, 54.54651532, 45.50662394,\n",
       "       38.38889547, 28.62995976, 29.47779611, 47.23637094, 30.31728778,\n",
       "       34.94839675, 53.96975471, 54.02552816, 48.86991346, 34.23097278,\n",
       "       14.01585478, 30.1781876 , 37.99689496, 31.82184154, 34.30663883,\n",
       "       46.07212664, 19.79569358, 31.44360527, 11.24473583, 44.5790478 ,\n",
       "       21.7849888 , 37.69217034, 52.07646836, 43.40379818, 50.76275329,\n",
       "       10.94647728, 41.29294237, 46.46294403, 11.66226927, 35.98954108,\n",
       "       53.13677768, 28.13577134, 51.14190885, 56.38226266, 52.631408  ,\n",
       "       24.55325988, 39.11392099, 29.12378471, 33.34358121, 57.11507176,\n",
       "       27.65309619, 20.88041256, 14.34315716, 13.62480781, 57.10054083,\n",
       "       45.15947206, 23.20745977, 24.81101216, 42.23271442, 36.44232571,\n",
       "       50.13360355, 14.85891695, 30.07186293, 19.4768301 , 29.2798686 ,\n",
       "       12.32265805, 46.28704948, 39.76019213, 47.0672229 , 18.9440999 ,\n",
       "       37.86598394, 34.01284456, 27.77449047, 31.49145147, 20.49624248,\n",
       "       12.82060895, 20.74831696, 46.90131732, 46.3973798 , 33.16491176,\n",
       "       59.80966585, 46.88302045, 32.82550391, 23.91371427, 20.99522595,\n",
       "       15.68597459, 51.18053639, 24.7640621 , 51.38828537, 56.53449215,\n",
       "       27.54147438, 43.72168264, 26.29818475, 59.81645089, 24.07660177,\n",
       "       34.01619973, 33.79473472, 35.00426742, 20.87591651, 24.56145366,\n",
       "       25.31063847, 30.4847079 , 13.61818711, 25.51486783, 47.52857178,\n",
       "       39.34402523, 33.41780943, 53.76416091, 10.57934603, 29.31201516,\n",
       "       26.78975459, 32.03663912, 13.02049154, 54.90400798, 50.54669089,\n",
       "       26.72811712, 19.44215213, 58.15116937, 27.06056796, 33.38678763,\n",
       "       27.59683526, 43.3012616 , 28.23090995, 44.79489695, 29.08537396,\n",
       "       40.79505169, 18.68655656, 14.04566234, 59.96976559, 31.05661454,\n",
       "       57.97600305, 52.11015959, 42.14876901, 20.7794765 , 11.38946473,\n",
       "       52.65107587, 41.00616432, 30.75322541, 58.62302101, 34.99021947,\n",
       "       54.71484036, 24.40522822, 15.01515872, 15.73342084, 15.19222808,\n",
       "       27.32846719, 57.97403308, 57.66650016, 25.73169846, 18.69639315,\n",
       "       32.95253954, 46.11377583, 27.28910908, 39.08718269, 22.49528302,\n",
       "       41.41149918, 28.34850857, 40.30459389, 22.04383713, 22.40910371,\n",
       "       42.40200519, 51.8301292 , 29.56129442, 52.93200667, 42.1488917 ,\n",
       "       30.39315364, 51.30593485, 43.62359585, 45.57199848, 37.36605183,\n",
       "       20.77789076, 46.07301308, 47.402937  , 37.02328868, 51.00333623,\n",
       "       58.50628386, 14.80969417, 35.74616382, 20.9881981 , 45.69094639,\n",
       "       51.06305737, 35.79400812, 52.56315258, 48.122594  , 55.37994011,\n",
       "       24.30729595, 19.78323557, 45.21956288, 58.39176055, 28.85768527,\n",
       "       13.79120247, 16.26721555, 59.29433273, 59.86720007, 30.25038502,\n",
       "       16.05120089, 30.38780329, 30.78588646, 55.96585894, 11.15726924,\n",
       "       45.61843791, 17.83605014, 12.57868741, 39.29047621, 20.99431165,\n",
       "       34.30532162, 36.49494085, 18.29089237, 33.76390585, 12.85204493,\n",
       "       37.4337661 , 42.91144893, 28.25384075, 40.83803108, 39.80830215,\n",
       "       38.10485902, 19.57984375, 25.6393964 , 32.20187376, 41.45228617,\n",
       "       52.00129908, 25.21184886, 39.65541034, 27.66641745, 17.8713142 ,\n",
       "       51.21661678, 52.914881  , 56.08435804, 39.77668858, 52.23096614,\n",
       "       26.6914354 , 30.49023245, 56.52920426, 16.27915974, 11.85608694,\n",
       "       33.55525166, 45.35197162, 26.46447602, 47.9421098 , 15.16888193,\n",
       "       47.49816049, 34.93663452, 35.50277329, 48.47557289, 20.3376247 ,\n",
       "       25.17824095, 36.30242186, 59.6716834 , 22.26189773, 24.68614658,\n",
       "       11.74910145, 46.55348101, 50.38895327, 40.33780518, 25.10546732,\n",
       "       39.21571952, 28.84336527, 46.80906921, 54.29404457, 58.45322536,\n",
       "       16.66244245, 40.71673302, 34.85796127, 40.89426225, 40.56760418,\n",
       "       46.91004997, 25.83056346, 38.16122251, 33.61820111, 28.87377231,\n",
       "       57.15281073, 28.96449639, 45.66907995, 56.77866173, 43.75038233,\n",
       "       54.44256779, 34.41139222, 20.89500853, 35.09534366, 41.27743273,\n",
       "       53.89241887, 24.25598183, 41.43813571, 19.04821198, 28.04589871,\n",
       "       47.37614543, 11.40854362, 52.27448476, 13.91723005, 58.14568396,\n",
       "       36.08477839, 29.79067206, 57.40820737, 19.39388008, 51.33060829,\n",
       "       51.96354569, 53.98992157, 53.42690739, 22.94371325, 43.05601689,\n",
       "       36.555217  , 48.64286837, 48.68725065, 15.55330961, 47.78675436,\n",
       "       38.23451837, 41.25537267, 11.06486404, 58.60940796, 57.54605851,\n",
       "       41.73083   , 30.42507336, 53.81489496, 13.54614278, 19.67264455,\n",
       "       59.5983789 , 32.6306126 , 54.19558156, 39.45920686, 31.01601879,\n",
       "       22.30027445, 16.2142785 , 57.37756107, 25.96071106, 17.95008491,\n",
       "       36.75845756, 16.15002407, 23.59375511, 35.44012139, 35.9053191 ,\n",
       "       34.15299263, 44.12423599, 10.05413663, 16.16722054, 12.58149367,\n",
       "       35.00362451, 31.99166546, 42.5216491 , 21.96904532, 48.52886091,\n",
       "       20.10921792, 42.2024603 , 50.40027543, 42.94888511, 50.65456587,\n",
       "       39.2551903 , 50.45351289, 33.15335494, 37.88394343, 27.10361792,\n",
       "       48.95705992, 47.12365564, 39.14047371, 38.7688312 , 43.8397173 ,\n",
       "       33.37219532, 18.01207077, 39.05560221, 44.38554186, 46.94737791,\n",
       "       48.00166608, 24.6734842 , 45.60300254, 53.68513597, 43.5664756 ,\n",
       "       32.41831149, 36.01408529, 12.69983387, 31.39425142, 57.6420894 ,\n",
       "       51.50800798, 18.17463333, 56.61609127, 39.03754925, 59.83629344,\n",
       "       48.61352413, 50.59458111, 24.72512426, 38.22613564, 12.7914385 ,\n",
       "       54.41236945, 52.75275398, 33.2305527 , 34.71094753, 56.35783452,\n",
       "       47.15837939, 57.40156069, 45.73992174, 22.90815929, 11.14945583,\n",
       "       35.41244137, 19.58166475, 51.41922354, 22.7792907 , 52.2167929 ,\n",
       "       11.82523618, 48.88815364, 11.23345886, 37.84346683, 28.28968439,\n",
       "       25.12186877, 42.60197919, 26.77725682, 52.0572503 , 11.08209712,\n",
       "       58.02454153, 31.38253233, 53.11745177, 35.55365035, 40.8803138 ,\n",
       "       53.93146525, 50.21670403, 40.35032212, 35.87551755, 31.85216182,\n",
       "       41.64895971, 41.55540474, 45.22633239, 11.97738368, 33.07887431,\n",
       "       10.64334035, 50.08198176, 37.48670861, 31.47144921, 56.57007457,\n",
       "       51.99376698, 33.42542805, 52.35930784, 24.88766563, 54.23085631,\n",
       "       29.8996333 , 48.04218832, 46.91889604, 17.60047916, 55.45041558,\n",
       "       20.33453267, 59.90630435, 20.24174399, 44.88344223, 13.89026173,\n",
       "       42.06420457, 16.60371996, 34.42933291, 52.37123732, 38.26196605,\n",
       "       56.65792283, 14.86596169, 57.09918388, 32.327185  , 35.33027997,\n",
       "       47.39327238, 47.31364816, 40.34938113, 46.12695125, 11.16532988,\n",
       "       32.55999511, 29.89610895, 48.26462058, 15.9813439 , 42.92428496,\n",
       "       49.11639067, 26.55021841, 13.22575518, 41.13005894, 25.680965  ,\n",
       "       28.63346653, 17.31422833, 47.04005623, 11.48113517, 31.20773103,\n",
       "       58.66617856, 22.73911356, 12.59080004, 36.05461704, 48.9552131 ,\n",
       "       58.06521218, 43.228124  , 31.391688  , 21.74928365, 38.79578519,\n",
       "       40.46537396, 55.39691588, 25.11446217, 35.27311408, 53.88328945,\n",
       "       52.0690252 , 22.9235532 , 15.29911707, 35.24040103, 36.35520024,\n",
       "       16.87126361, 23.45220968, 43.33895326, 21.87643344, 13.99179881,\n",
       "       24.57059546, 48.73179813, 28.81123512, 55.53126509, 39.9164319 ,\n",
       "       47.74594305, 41.46542479, 11.84646062, 16.85356396, 31.80138797,\n",
       "       39.44435577, 44.66468493, 22.44806648, 35.05027722, 59.90365076,\n",
       "       26.09495023, 40.50788826, 51.74295621, 57.12367179, 30.58716081,\n",
       "       44.55281682, 58.4741369 , 10.93652167, 52.2349135 , 35.90266773,\n",
       "       46.91354765, 58.49959419, 21.48776084, 56.01408921, 20.13368081,\n",
       "       41.76961728, 41.28305436, 50.02359812, 36.16322877, 16.7059387 ,\n",
       "       54.74387343, 50.43006947, 51.46981048, 43.78660689, 48.6219607 ,\n",
       "       42.23197346, 21.39928597, 46.13966308, 16.19779807, 54.61746777,\n",
       "       37.34738364, 53.36107317, 51.81530847, 42.11891744, 54.96635741,\n",
       "       26.42799198, 59.21629385, 16.41146525, 16.28314668, 50.98403477,\n",
       "       15.87437024, 19.77643247, 33.5621808 , 51.44151613, 38.25336542])"
      ]
     },
     "execution_count": 7,
     "metadata": {},
     "output_type": "execute_result"
    }
   ],
   "source": [
    "unif_generator(10,60,1000)"
   ]
  },
  {
   "cell_type": "code",
   "execution_count": 8,
   "metadata": {},
   "outputs": [
    {
     "data": {
      "text/plain": [
       "(array([ 96., 118.,  96.,  98., 102., 100.,  99.,  91.,  97., 103.]),\n",
       " array([10.04475005, 15.03755646, 20.03036286, 25.02316926, 30.01597567,\n",
       "        35.00878207, 40.00158847, 44.99439488, 49.98720128, 54.98000768,\n",
       "        59.97281409]),\n",
       " <BarContainer object of 10 artists>)"
      ]
     },
     "execution_count": 8,
     "metadata": {},
     "output_type": "execute_result"
    },
    {
     "data": {
      "image/png": "[encoded data removed]",
      "text/plain": [
       "<Figure size 1152x648 with 2 Axes>"
      ]
     },
     "metadata": {},
     "output_type": "display_data"
    }
   ],
   "source": [
    "fig, axs = plt.subplots(ncols=2)\n",
    "ax1 = plt.subplot(131)\n",
    "ax1.set_ylim([0, 120])\n",
    "ax2 = plt.subplot(132)\n",
    "ax2.set_ylim([0, 120])\n",
    "ax1.hist(unif_generator(10,15,100), bins=10)\n",
    "ax2.hist(unif_generator(10,60,1000), bins=10)"
   ]
  },
  {
   "cell_type": "markdown",
   "metadata": {},
   "source": [
    "## Normal Distribution\n",
    "\n",
    "1. In the same way in the Uniform Distribution challenge, write a function that generates normally distributed random numbers.\n",
    "1. Generate 1,000 normally distributed numbers with the average of 10 and standard deviation of 1\n",
    "1. Generate 1,000 normally distributed numbers with the average of 10 and standard deviation of 50\n",
    "2. Plot the distributions of the data generated.\n",
    "\n",
    "Expected output:\n",
    "\n",
    "![normal distribution](nd.png)"
   ]
  },
  {
   "cell_type": "code",
   "execution_count": 9,
   "metadata": {},
   "outputs": [
    {
     "data": {
      "text/plain": [
       "array([ 1.68513134, -0.11765786, -0.46139047, -0.20645228,  0.26515922,\n",
       "       -1.46187284,  0.00876701, -1.06584962, -0.83077993, -0.44917985])"
      ]
     },
     "execution_count": 9,
     "metadata": {},
     "output_type": "execute_result"
    }
   ],
   "source": [
    "# your code here\n",
    "from scipy.stats import norm\n",
    "norm.rvs(size=10)"
   ]
  },
  {
   "cell_type": "code",
   "execution_count": 10,
   "metadata": {},
   "outputs": [
    {
     "data": {
      "text/plain": [
       "1.0"
      ]
     },
     "execution_count": 10,
     "metadata": {},
     "output_type": "execute_result"
    }
   ],
   "source": [
    "norm.std()"
   ]
  },
  {
   "cell_type": "code",
   "execution_count": 11,
   "metadata": {},
   "outputs": [],
   "source": [
    "def normal_generator(average, std, count):\n",
    "    return norm.rvs(size=count)*std+average"
   ]
  },
  {
   "cell_type": "code",
   "execution_count": 12,
   "metadata": {},
   "outputs": [
    {
     "data": {
      "text/plain": [
       "array([11.82287643, 10.36671975, 10.14472125, 11.27602032, 12.37502375,\n",
       "       10.85131782,  9.78671478, 10.27179576,  7.42902586, 10.94690887,\n",
       "       11.02452589,  8.11119652,  8.98834815,  9.90818231, 11.16768395,\n",
       "        9.97337942, 10.77964059,  8.41376436,  8.75519497,  9.50685179,\n",
       "       10.25133487, 10.21455477,  9.05915905,  9.72315496,  9.30217537,\n",
       "        9.65607549, 11.47560243,  7.59071146,  9.28411146,  7.76194437,\n",
       "       10.57153252,  8.40411492,  9.64307777,  9.13577707,  7.82092531,\n",
       "        9.08859183, 11.16043056,  9.34522753, 11.50883377, 10.19885254,\n",
       "        9.59638947,  9.67267157,  9.60927804,  9.98672612, 10.77872204,\n",
       "       10.73939609, 10.24881089,  9.82675472,  8.06002886, 10.57366774,\n",
       "       11.37767941, 10.74580747, 12.34762334, 11.03213461,  9.17908076,\n",
       "        9.49427639,  8.7657643 , 10.51218244,  9.60655042,  9.25087278,\n",
       "        8.47066631, 10.76286037,  9.31170988,  9.38285115,  9.60455073,\n",
       "        9.52049127,  8.81712256, 10.38865376,  8.02140203,  9.50510756,\n",
       "        9.74173716,  9.34775232, 11.16102812, 10.60607425, 10.2687497 ,\n",
       "        8.23374537,  7.47920991, 10.63737384, 10.09024947,  9.64550631,\n",
       "        8.56187845, 11.33003764, 10.53966263,  8.90320359, 10.83745836,\n",
       "        9.63966661,  8.90266169,  9.7554763 , 10.00083215,  8.53225951,\n",
       "        9.42540053,  9.69600713,  9.89506644,  9.47699707,  8.68517318,\n",
       "        8.33593906,  9.85193225, 10.73386294, 11.39107057, 11.0743579 ,\n",
       "        7.79971065, 10.83768674,  9.01746364, 10.02901772,  8.35461534,\n",
       "       10.19339364, 10.31915538, 10.1631867 ,  9.6515691 ,  8.26018768,\n",
       "       10.06842208,  9.40861938,  8.92631096,  9.2807494 ,  9.27561853,\n",
       "        8.71384171, 10.79199283,  9.93988876,  9.88860289,  9.02515284,\n",
       "        9.15077555,  9.21537141, 11.37827972, 10.41862696, 10.00504949,\n",
       "        9.506002  ,  9.29893785,  9.88364453, 11.12789916,  9.69489063,\n",
       "       10.48591648, 10.57215462,  7.89908265, 10.61684075, 10.80420151,\n",
       "        9.64330395, 10.06162322,  9.90976089, 11.30558672, 10.63609703,\n",
       "        9.87849668,  9.36245094,  9.57915018,  9.28916748,  8.95761335,\n",
       "       11.27417171,  9.37884661,  9.85904045, 10.27727482,  9.96522639,\n",
       "        9.43764021,  8.68682704,  8.72055609,  8.22617576, 11.00779699,\n",
       "        8.35775592, 10.46180586,  8.63601297,  9.64972766,  9.82451781,\n",
       "        9.5938389 , 10.41147177, 10.77393999, 10.93362657,  8.33480821,\n",
       "       10.1321498 ,  9.75362468, 10.44923162, 10.47168001, 10.32108289,\n",
       "       10.56049664, 10.10404647,  9.75504154, 10.2073735 ,  9.47104254,\n",
       "        9.78700498,  8.71217088,  8.27625329,  9.4521038 ,  9.0704952 ,\n",
       "       10.8271816 , 10.43348343, 10.21459886,  8.01012674,  9.03596159,\n",
       "       10.12718418,  9.09456546, 10.82045763,  9.57097784,  8.95640069,\n",
       "        9.825148  , 10.12305888,  9.75877562,  8.47705198,  8.43859737,\n",
       "       10.9885701 ,  9.87410536,  9.02983677,  8.77481965, 11.20238996,\n",
       "       10.59025299, 10.19306038, 10.06852371,  9.35342497, 11.42806762,\n",
       "        8.48791758,  8.04775259, 10.97388441,  9.44882961,  9.31153296,\n",
       "        9.31794724, 11.20988784,  9.93721856, 12.01706885, 10.42926926,\n",
       "        8.4728001 , 11.68367344,  8.81618273,  9.91450157, 11.21777871,\n",
       "       10.56690214, 10.2114582 ,  8.91751883, 10.91558843,  9.69103305,\n",
       "       10.41147923, 10.0327309 ,  9.86608903, 11.18121978,  9.22328944,\n",
       "        9.68471336,  8.3203747 , 10.51771855, 10.85778466,  9.91230514,\n",
       "        9.74078779,  9.82622632, 10.88520397, 11.16299284,  9.68783112,\n",
       "       10.0567224 , 11.7319646 ,  9.69062173, 10.29865744, 10.20146095,\n",
       "        9.0844651 , 10.04537447, 10.48468323, 12.05289183, 10.06530372,\n",
       "       10.60098939, 10.50154197,  9.8487178 , 11.01435217,  9.62141436,\n",
       "       11.82212354, 10.96516669,  9.78754081, 10.14519438,  8.82343097,\n",
       "        9.29165639,  9.59041256,  7.88040059,  9.71476592,  9.25036251,\n",
       "       11.01272899,  9.27219582, 10.64759702,  9.31358253, 11.9344711 ,\n",
       "       11.29989421, 11.24485895,  9.65844653,  9.92297025, 11.64322666,\n",
       "        9.89068705, 11.01398915, 10.13611863,  7.9902017 , 11.31712165,\n",
       "       10.19731369,  9.03836171, 10.44650744, 10.1827244 , 10.04936582,\n",
       "        8.05615835,  9.44391939,  7.63247349, 10.26258657, 10.94065752,\n",
       "        9.32628134,  9.37703854, 10.14019384,  9.24017744,  9.50502521,\n",
       "       10.54469647, 10.53594989,  9.45096666, 10.10966547,  9.86284839,\n",
       "        9.80533483,  9.27579722, 11.62286161,  9.83238842, 10.09551971,\n",
       "        9.3778557 , 11.02406789, 12.30068561, 11.30518671,  8.83293397,\n",
       "        9.87320802, 10.09152202,  7.87475608,  9.11957756, 10.46500341,\n",
       "       12.34403145, 10.89710844, 11.33475411,  8.95897941,  9.60604686,\n",
       "        7.29593955, 10.87823438,  7.28401106, 11.71125471,  9.89226792,\n",
       "       11.08186484, 11.31084196,  9.56906744, 10.70033006, 11.30674808,\n",
       "        9.75775759, 10.02278987,  9.35721674,  8.08720962, 11.12682282,\n",
       "        7.82194759,  9.18361756,  9.48463744,  9.58198814,  8.93863676,\n",
       "        9.46607601,  8.71981406,  8.81937703, 10.99020041, 10.5319948 ,\n",
       "        8.95260928, 10.28220911,  9.86748812, 10.80956027, 10.2148457 ,\n",
       "       10.23241736,  9.40141928,  9.88058254, 10.18894934, 10.76731013,\n",
       "        9.45458083,  9.78695515,  7.02618353, 10.70641518,  9.65094928,\n",
       "        8.51762887,  9.65361528, 11.15525992, 10.25829052, 11.48475227,\n",
       "       11.73284604, 10.00502471,  9.78299836, 10.03000531, 10.68055977,\n",
       "       10.68621025,  9.00302659, 11.32763597,  9.35442975, 10.86119528,\n",
       "       11.45076873, 10.81839135, 10.49227919,  9.48627326,  9.92980171,\n",
       "       10.8688368 , 10.86976712, 10.14937361, 10.60487149, 11.48135304,\n",
       "       11.94740216, 10.7668787 ,  9.82147401, 11.52050263, 10.2693046 ,\n",
       "        9.72346057, 10.90506707,  9.93003718, 12.22652402, 10.11377687,\n",
       "       10.23381804,  9.29921661,  7.62579422, 11.52783649, 11.09115503,\n",
       "        8.53042992, 10.45026864,  7.99355302,  9.31374038,  9.66426302,\n",
       "        9.58088459,  9.74691437,  8.85183612, 10.4680173 , 10.39914654,\n",
       "       10.19514809, 10.36663192, 10.6436119 , 10.4508536 , 10.84728726,\n",
       "       11.22831296,  9.70072206,  9.05317466, 10.45178086, 10.84445458,\n",
       "        9.95691334, 11.16647351,  9.37234568, 11.7652119 , 10.72293947,\n",
       "        8.17962871,  8.97302834,  9.5606265 , 11.0460091 , 10.12146175,\n",
       "       10.50364375, 10.41234833,  9.99642505, 10.05860703,  9.06394434,\n",
       "       12.69003429, 12.10404976, 10.07351345,  8.47443886,  8.93199162,\n",
       "       10.12314866, 10.88986299, 10.89083687,  9.43801783,  8.75098235,\n",
       "        9.51265659,  9.94191016, 10.39423138, 10.06872064,  9.44410526,\n",
       "       11.29464149,  7.603108  , 10.35164838,  8.80003272,  9.97692069,\n",
       "        9.07396684,  7.83929892,  9.24243215,  9.54122959,  9.81259654,\n",
       "       10.74581665, 10.03794357,  9.03062863, 10.38002433,  9.27726288,\n",
       "        9.64611344, 10.23910407, 10.32580239,  9.60685165, 10.59362478,\n",
       "        9.46952682,  9.52102336,  9.98062245, 11.54467451, 11.34053729,\n",
       "        8.70102656,  9.4920314 ,  9.32437885,  9.59518799, 10.67385889,\n",
       "        9.96532979,  7.76921922, 11.68095835,  9.28575868, 10.70812977,\n",
       "        9.8023579 , 10.3010806 , 11.27038987, 10.84874444, 11.17811444,\n",
       "        9.29856148, 10.12190371, 11.96080445, 11.37351663, 10.10584448,\n",
       "        9.68505393,  8.62081768,  9.01912373, 10.01729446, 10.66193361,\n",
       "        8.39538923, 10.50337489,  9.85774545,  9.02695774, 10.23130669,\n",
       "       11.66685413, 11.1124475 ,  7.8290356 , 10.70431256,  9.99024997,\n",
       "       10.44177449, 10.31844122,  9.89836965,  9.68003643,  9.34990602,\n",
       "        7.06195757, 12.48646388, 10.27741219,  9.2690703 ,  9.76868243,\n",
       "       12.58978954,  9.36929885,  9.4007434 ,  8.67291692,  9.78267014,\n",
       "        8.31922105,  8.9909686 ,  9.27047116, 10.00507317, 10.44323581,\n",
       "        8.87743404,  9.70508612, 10.84313273,  9.46081253, 10.53669823,\n",
       "        9.53309494, 10.38581186,  9.80545387, 11.20041372, 11.00922389,\n",
       "       10.38971079, 10.01142596, 10.65623406, 10.72683562, 11.09413987,\n",
       "       10.59827895, 10.36024189, 10.37836069,  8.6656311 ,  8.82193668,\n",
       "        9.84388027, 10.64041472,  9.5095946 ,  9.42611665,  9.41802515,\n",
       "       10.03188703, 10.36764659,  8.77315501,  8.84452407,  9.78284185,\n",
       "       10.20213041, 10.41678786, 10.63140335, 11.11510424, 10.32565795,\n",
       "        7.99187966, 11.32735828, 10.80906275,  9.68928528, 11.4553835 ,\n",
       "        8.95093975, 10.84724526,  9.43895381, 10.66759349, 10.91380135,\n",
       "       11.09216145, 10.91878371, 11.42635432,  8.56178814,  9.87460117,\n",
       "       10.38748351,  8.9330275 ,  9.84126048, 10.48982475,  9.5370728 ,\n",
       "        9.84431488, 11.073076  , 10.20664526,  9.16842727,  9.00806528,\n",
       "        8.44479201, 10.22019094,  8.95672206, 10.25514369,  9.35367797,\n",
       "       10.37234885,  8.51885599, 10.19849236,  9.51362101,  9.27570229,\n",
       "        9.86586653, 10.91364004,  9.12123719, 10.09545364,  8.78035048,\n",
       "        9.84929277,  8.99410166,  8.79460555, 10.24452258,  9.4713914 ,\n",
       "       10.15967354, 10.73497021,  9.96691292,  9.80683845,  9.62645424,\n",
       "        9.69701411, 10.01341607, 10.40214883, 10.39978981,  9.40943501,\n",
       "        8.89579603,  8.75020526,  8.69379878, 10.25231022, 10.22460858,\n",
       "        8.27702345, 11.27442289,  9.74932138,  9.7701293 , 13.00989605,\n",
       "       12.87933925,  7.64818523,  9.35394642,  9.42691568,  8.9941087 ,\n",
       "       10.59961677, 10.82434597,  9.95850735,  8.41557679,  8.80446871,\n",
       "       10.45634218,  9.5906352 , 10.1839087 , 11.28407992, 11.31471673,\n",
       "        9.56215687,  9.94143457, 11.27349192,  7.92737696,  9.05990364,\n",
       "        9.74228861, 10.73739237,  9.70312139, 11.23374896, 10.51166888,\n",
       "        8.06338247,  9.95091681, 10.45318853,  9.54603306,  8.05822234,\n",
       "       11.78029491, 10.17246932, 10.02855691, 11.18420333, 11.2422305 ,\n",
       "       10.04053739,  9.10481437, 10.337297  ,  9.97429961, 10.19794862,\n",
       "       10.99158376, 12.16558957, 10.95757464,  7.7353309 , 10.14327091,\n",
       "        9.01434207, 11.02999739, 10.22907486,  8.84646932, 12.03471247,\n",
       "        9.90656802,  8.43693892,  9.35301284, 10.18979443,  9.87779766,\n",
       "       11.93326421, 11.35964426, 10.75919251, 10.29319104, 10.19274178,\n",
       "       10.64796327,  9.21568802, 10.20968424,  8.24860294,  9.97440001,\n",
       "        9.26740479, 10.47187278, 10.71807549,  8.4442047 ,  8.9324374 ,\n",
       "        9.24476257,  9.15506977, 12.54866525, 10.43203304, 10.27392993,\n",
       "       12.33943893, 10.27619527, 10.31637711, 10.54509742, 10.32381327,\n",
       "       11.0093558 , 10.05074968, 11.19064582, 10.17083429,  9.42903139,\n",
       "       11.26395034, 10.48002196,  8.35602583, 10.06639378,  8.27699351,\n",
       "       10.96293224,  9.75311607, 10.89010464,  9.54092007,  8.33021102,\n",
       "       10.9167527 ,  9.15023537, 10.7508308 , 10.17734713, 10.36438013,\n",
       "        9.17184124, 10.60169777, 10.69125176, 10.5667453 ,  9.1563155 ,\n",
       "        9.98974842, 11.45552916,  9.4010365 , 10.0027295 ,  9.42048631,\n",
       "       10.74050325,  9.89604242, 10.96949428,  8.53056468,  9.37917162,\n",
       "       10.05495499,  8.77819883, 11.95794956, 10.14375685, 10.88955946,\n",
       "       11.63430903,  7.51973123, 10.7505622 ,  7.62673301, 10.32623694,\n",
       "       10.37870582,  8.72804841,  8.13702158, 10.46379934, 10.91572655,\n",
       "        8.91609114,  9.57675221,  9.50097327, 10.11826412,  9.5666211 ,\n",
       "       11.85401347,  9.89893681, 10.61422717,  7.86183908,  9.98795353,\n",
       "       10.88944823, 11.00876605,  9.57076203, 10.60644708, 10.84465993,\n",
       "       11.68149522, 10.86015236,  9.6940813 ,  8.99548667,  9.82016082,\n",
       "       12.21476534,  8.26458694,  9.79228896,  8.34465716, 10.80926751,\n",
       "       10.58771337,  8.71218419, 11.5417436 , 11.58481716, 10.24639584,\n",
       "       10.38189973,  8.94498221,  7.92280612,  8.17033116, 10.36759157,\n",
       "        9.4059451 ,  8.57067378, 10.53508579, 10.10038192,  8.95702562,\n",
       "       10.69851751, 10.7047121 ,  9.76585125, 10.81344193, 10.6332377 ,\n",
       "       10.17838475, 10.76374616, 10.68629414,  9.58116503, 10.52696288,\n",
       "        9.3047727 ,  8.13808499, 10.1489928 , 10.84990113,  9.27500349,\n",
       "        9.82190508,  9.31344765,  8.93025249,  8.07022161, 10.79435177,\n",
       "       11.20102009,  9.42566835, 10.86127904, 10.870867  ,  9.91215346,\n",
       "       11.28743629,  9.19609428, 10.66351112, 11.51728613,  8.68192136,\n",
       "       10.55452423, 10.05751359, 10.48188489,  7.77273227, 10.77646434,\n",
       "       10.2485555 ,  9.59139721, 11.39105197, 10.39730569, 10.19737072,\n",
       "       10.81110944, 11.26669312,  9.53086684, 11.69742223,  9.69134468,\n",
       "        9.04081828,  9.7036831 ,  9.30669327,  8.8111719 ,  8.25344028,\n",
       "        8.59369088, 10.77623192,  8.42526766, 10.37122175,  8.37116601,\n",
       "        8.30893206,  9.72790081, 10.81550872, 10.55891703,  9.3674312 ,\n",
       "       10.14215948, 10.85717477, 12.25675293, 11.12905065,  9.13138942,\n",
       "       10.53148888, 11.07796772, 11.39671248,  9.19201087, 10.30386098,\n",
       "        8.98416722,  9.55572334,  9.47208474,  8.75727393, 10.48727062,\n",
       "       10.79429869,  8.35130495, 10.50306206,  9.80083797,  8.61191564,\n",
       "        9.99856917, 10.23426398,  8.7279402 ,  9.65542607,  9.36675238,\n",
       "        9.03012229,  8.40865549,  8.10132837, 10.0793942 ,  9.34023361,\n",
       "        8.39615965, 11.06935298,  9.31520911, 10.43288559, 11.35335282,\n",
       "        9.38025536,  9.96123589, 11.32086886, 10.20096087,  9.02516278,\n",
       "       11.00969697,  9.4299032 , 10.56597693,  9.71014903, 10.97175162,\n",
       "       10.42808013, 11.32513115,  9.61924901,  7.22682626,  9.94394635,\n",
       "       13.05883819, 11.7252462 , 10.86320755,  9.68657375, 10.15119369,\n",
       "       10.32176347, 11.12840461, 10.25906018, 10.49825682,  8.06131753,\n",
       "        9.35270315, 11.26132045, 11.12409916,  8.7441532 ,  8.36930109,\n",
       "        9.8433759 ,  9.74140802,  9.50786986,  9.14784075, 10.98369213,\n",
       "       10.08254174, 11.04568791,  9.47018509, 10.15855919,  9.85787067,\n",
       "       11.29948884, 11.00131427, 10.55422943, 10.71133638,  9.98079313,\n",
       "        8.80417692,  9.7058528 ,  9.89907995, 10.28491131,  8.61906326,\n",
       "        7.55957721,  8.87646138,  9.93099402,  9.42791539,  9.86225036,\n",
       "        9.40136043,  9.52586876, 10.12838771,  9.52796534, 10.60971021,\n",
       "       11.31071523,  9.55861756,  9.88976417,  8.63452044,  9.28964547,\n",
       "        8.97137227, 10.16739349,  9.98268913, 10.3904428 , 11.40043543,\n",
       "        8.5171421 ,  9.1210262 ,  8.25655859,  8.1626367 , 10.62979427,\n",
       "       10.09815901, 11.33652956, 10.85387348, 10.53979161, 11.98002736,\n",
       "       10.65186926,  9.35737384,  9.31426717,  8.87941984,  8.87409513,\n",
       "       12.17805509,  8.25759933,  9.83549464,  9.36882511,  9.70669167,\n",
       "       11.8625644 ,  8.58501363, 11.55171631,  9.60215266, 10.32440113,\n",
       "       11.06067986,  9.73279676,  9.76938968, 10.93394008,  9.96664028,\n",
       "        9.03990433, 10.26529995, 11.03446832, 10.13042243, 10.24634405])"
      ]
     },
     "execution_count": 12,
     "metadata": {},
     "output_type": "execute_result"
    }
   ],
   "source": [
    "normal_generator(10, 1, 1000)"
   ]
  },
  {
   "cell_type": "code",
   "execution_count": 13,
   "metadata": {},
   "outputs": [
    {
     "data": {
      "text/plain": [
       "array([-1.05678893e+01,  4.40652731e+00,  8.63800866e+00,  5.27422550e+01,\n",
       "       -1.81526581e+01,  8.07575113e+01,  4.84307209e+01,  2.79793527e+01,\n",
       "       -2.58029743e+01, -2.19311142e+01, -7.87468279e+01, -1.19541068e+01,\n",
       "        2.02581635e+01,  9.63697300e+01, -1.79431292e+01,  6.72687563e+01,\n",
       "       -9.26984143e+00, -4.83155908e+01,  7.60205112e+01,  4.18716501e+01,\n",
       "        2.84815092e+01,  4.11267377e+01, -3.44518262e+00,  5.93677614e+01,\n",
       "       -5.00531219e+01,  3.49196109e+01,  1.83366265e+01, -3.92544337e+01,\n",
       "       -1.98446918e+01,  2.73027074e+01,  2.57256350e+01, -4.57958529e+01,\n",
       "        5.88778009e+01,  6.25450733e+01, -1.72643808e+01,  8.18773233e+01,\n",
       "        1.18565531e+01,  4.49602034e+01, -2.38814553e+01,  2.79173566e+01,\n",
       "       -3.64765499e+01, -6.38119281e+01, -1.54900915e+01,  5.38516911e+01,\n",
       "        2.56716696e+01, -1.56715108e+01, -4.70989319e+01,  5.82135625e+01,\n",
       "       -8.18962644e+01,  7.20638692e+01, -3.22931067e+01,  6.28931093e+01,\n",
       "        1.24929583e+01,  4.31384189e+01,  6.30102933e+01,  4.40467654e+01,\n",
       "       -2.79210474e+01,  9.73791351e+00, -2.69112060e+01,  6.32871659e+01,\n",
       "        3.43452239e+01, -1.98891078e+01,  1.51230009e+00,  2.43586314e+01,\n",
       "       -1.74551698e+01,  2.74296145e+01, -2.39091009e+01,  1.20953435e+02,\n",
       "        8.87204180e+01,  1.35141382e+01, -2.71579649e+01, -8.26140327e+01,\n",
       "        5.65985198e+01,  6.90472270e+01,  2.36291719e+01,  2.34280989e+01,\n",
       "       -2.15480836e+01, -5.42146955e+01,  5.93456920e+01,  3.49218909e+01,\n",
       "       -1.53634239e+01,  1.76613610e+01,  1.13245956e+01,  9.37936678e+01,\n",
       "       -2.72244720e+01, -4.33177286e+01,  1.04047090e+02, -5.56754719e+01,\n",
       "        6.80757548e+01,  4.66773614e+01,  5.76775868e+01,  4.65429167e+01,\n",
       "       -7.59211271e+01,  7.54663710e+00,  5.11943903e+01,  8.89600568e+01,\n",
       "        9.32829640e+01, -6.85893283e+00,  3.28614923e+01, -9.77954003e+01,\n",
       "       -3.88206138e+01, -2.61851048e+01,  5.16780417e+01,  1.70082065e+01,\n",
       "        8.84907194e+01, -6.85223251e+01, -7.70124692e+01,  2.39166279e+01,\n",
       "       -1.01223143e+01,  4.00682061e+01, -1.15917582e+02,  5.76400354e+01,\n",
       "        9.03821343e+01, -1.52374612e+01,  1.37081230e+02,  6.42636041e+01,\n",
       "        1.69028137e+01, -6.07569817e+01,  6.93082441e+00,  1.08998140e+01,\n",
       "        9.74257471e+01, -5.92626295e+01,  5.64632730e+01,  2.22374119e+01,\n",
       "       -1.38976724e+01, -2.88153413e+01,  2.89482811e+00, -8.56052370e+00,\n",
       "        5.70088251e+01, -5.67408677e+01, -4.01096301e+01, -6.84332313e+01,\n",
       "       -7.72982557e+01, -4.07343431e+01, -4.58855377e+01,  4.34144896e+01,\n",
       "        1.99030948e+01,  2.90840118e+01, -3.99194806e+01, -4.78794337e+01,\n",
       "        6.12703851e+01, -6.49624237e+01, -1.41659227e+01, -2.95453660e+01,\n",
       "        5.66224645e+01,  7.23277065e+00, -6.17743827e+01,  3.06320908e+00,\n",
       "        3.96795421e+01, -3.84870656e+00,  3.90984847e+00,  8.46286446e+01,\n",
       "        2.27125963e+01,  6.17005588e+01, -8.13931296e+00,  2.87711970e+01,\n",
       "       -8.11685887e+01,  4.21508910e+00,  7.23743225e+01, -4.86169398e+01,\n",
       "        1.39717811e+01, -1.67766730e+01, -9.98575512e+00,  2.78888926e+01,\n",
       "        7.48024323e+01,  1.78711048e+02,  1.33673373e+01,  4.74980851e+01,\n",
       "        5.16654713e+01, -2.77010359e+01,  3.04054526e+01,  5.15689925e+01,\n",
       "       -1.03483513e+02,  3.23474043e+01,  9.23216675e+01,  1.22736645e+02,\n",
       "       -5.54241443e+01, -7.18869005e+01, -4.23609879e+01,  1.52753460e+01,\n",
       "       -9.88508810e+01,  1.05071374e+02,  3.01344806e+01,  4.38146759e+00,\n",
       "       -3.05214343e+01,  8.03792177e+01, -1.24486624e+02,  7.84658289e+00,\n",
       "        3.46233936e+01,  1.32028064e+01, -8.04137967e+01, -4.77820308e+01,\n",
       "        1.71050377e+01,  1.74321502e+01,  3.59486240e+01, -7.16519722e+00,\n",
       "        5.50807740e+01, -1.57302818e+01,  4.19629173e+01,  6.83922302e+01,\n",
       "       -4.99292644e+01,  6.97319827e+00, -4.56393330e+01,  4.03406418e+01,\n",
       "        2.76823647e+01,  1.01253435e+01,  1.58804308e+01,  1.62151803e+01,\n",
       "        3.19924021e+01,  4.99324502e+01,  1.21481812e+01,  1.13955908e+01,\n",
       "        2.13574149e+01, -6.70316360e+00,  5.19797333e+01,  1.99399895e+01,\n",
       "        1.18612104e+01,  2.35588029e+01, -1.83547127e+01,  1.49077968e+01,\n",
       "        2.79577129e+01,  1.35670672e+02,  3.89651512e+01, -1.75021014e+01,\n",
       "        1.42780522e+01, -1.39727578e+01, -5.14400158e+01, -5.01626986e+01,\n",
       "       -3.93343939e+00,  2.18429700e+01,  6.17923620e+00,  8.24039480e+01,\n",
       "        2.95655152e+00,  6.45827341e+01,  8.61792992e+01,  3.40626096e+01,\n",
       "       -5.39375284e+00, -8.52521311e+01,  4.06117256e+01,  2.88184152e+01,\n",
       "        1.44378344e+01, -5.45857166e+01,  1.36337562e+01,  8.38408690e+00,\n",
       "       -3.99651742e+01, -9.59656301e+00, -8.05194924e+00,  4.85526948e+00,\n",
       "        1.19037928e+02,  2.23633075e+01,  3.66771486e+01,  7.15914315e+01,\n",
       "       -3.44986266e+01,  3.68344582e+01,  2.91484122e+01,  5.20467561e+01,\n",
       "        3.78460886e+01,  1.87297333e+00,  2.72853901e+01,  6.86404931e+01,\n",
       "        2.65815335e+01, -1.75677147e+00,  2.58800520e+01, -7.59044529e+01,\n",
       "        3.04595207e+00,  5.74039008e+00, -2.13725680e+01,  9.03516261e+01,\n",
       "        2.83938421e+01, -1.36715332e+01,  6.00307334e+01, -2.30317822e+01,\n",
       "        1.28940795e+02,  8.19387791e+01,  5.33782123e+00,  1.02098400e+00,\n",
       "        3.47077829e+00,  1.94664504e+01,  2.90483272e+01, -1.42854789e+01,\n",
       "        1.14899456e+01, -1.56350328e+01,  1.34981209e+01,  1.96341866e+01,\n",
       "        2.13547237e+01,  1.66324133e+01,  2.37799903e+01,  3.46192973e+01,\n",
       "        1.27363770e+02, -3.47318469e+01, -1.96483075e+00, -7.16765470e+01,\n",
       "       -3.37243271e+01, -2.62093470e+01, -4.82356515e+01,  3.12229499e+00,\n",
       "        5.67556648e+00, -2.08791840e+01,  1.87662028e+01,  1.39286687e+02,\n",
       "       -1.35812681e+01,  6.22453225e+01,  1.46558827e+01, -1.46192858e+01,\n",
       "       -1.19437148e+01, -5.15876491e+01, -5.10032404e+01,  3.25867073e+01,\n",
       "       -1.50898446e+01,  3.91579696e+01, -2.31993608e+01, -2.10160617e+01,\n",
       "       -6.12745993e+01,  4.35787879e+01,  5.06127869e+01, -5.16062652e+01,\n",
       "       -1.50741168e+01, -3.60690538e+01, -4.01097342e+01, -8.00972574e+01,\n",
       "       -4.32848362e+01,  9.84244797e+01, -2.34397385e+01, -7.23092237e+01,\n",
       "       -8.91179560e+01,  7.53613481e+00,  9.09047738e+01,  1.44460331e+01,\n",
       "        3.53038789e+01, -1.15172486e+01,  4.07643026e+01,  5.46683771e+01,\n",
       "       -5.05090490e+01, -5.40639491e+01,  1.58461151e+01,  2.70021363e+01,\n",
       "       -3.26941877e+01, -2.17067652e+01,  3.46520797e+01,  6.55441418e+01,\n",
       "       -1.71649821e+01,  8.24728726e+01,  3.45766635e+01,  5.47721869e+00,\n",
       "        5.06521130e+01,  7.56625802e+00,  7.37401760e+01, -8.20160408e+00,\n",
       "        2.91860472e+01,  4.14830662e+01,  3.00562328e+01,  1.29914786e+01,\n",
       "        3.27380528e+01,  5.51888529e+01,  1.24375761e+01,  4.76541566e+01,\n",
       "        3.86324251e+00,  1.56069682e+01,  6.35270544e+01, -9.29199339e+01,\n",
       "       -6.10086920e+01,  5.89186266e+01, -1.10730105e+02, -4.10610010e+01,\n",
       "       -2.60596739e+01, -7.67750282e+01,  6.61550310e+01,  9.33113640e+01,\n",
       "        6.32488357e+01,  2.59992062e+01, -1.30023148e+01, -1.38034870e+01,\n",
       "       -3.34859639e+01, -7.00221679e+01, -5.85891492e+01,  2.49691161e+01,\n",
       "       -6.49846293e+01,  8.24305542e+01,  7.32698123e-01,  6.60093031e+01,\n",
       "        9.26281831e+01, -1.96017288e+01, -4.23882033e+00,  1.27439776e+01,\n",
       "       -3.34482741e+01, -1.22479072e+01,  4.09395672e+01,  9.49534877e+01,\n",
       "        7.63383235e+01,  2.59619440e+00, -4.76268519e+00,  3.64926572e+01,\n",
       "        1.40184465e+01, -9.29777786e+01, -1.08194226e+02,  1.84395953e+01,\n",
       "       -6.19352222e+00,  1.69341990e+01, -4.83951769e+01, -4.81346321e+01,\n",
       "       -1.62717146e+01, -6.66437470e+01, -6.08770751e+01,  5.05498596e+01,\n",
       "       -1.04599968e+02, -5.02313372e+00,  2.21717598e+01, -1.25600110e+01,\n",
       "       -1.96377903e+01,  5.62298078e+01,  1.03187777e+01,  1.22318971e+00,\n",
       "        1.04741313e+02,  5.55897043e+01,  2.38955960e+00, -2.77384627e+01,\n",
       "       -2.94309137e+01,  7.33687526e+01, -3.74456167e+01,  1.03794394e+02,\n",
       "        9.46521166e+01, -7.58961761e+00,  3.18987100e+01,  7.66290018e+01,\n",
       "        4.35660874e+00, -3.32639373e+01,  2.12622629e+00,  3.86559008e+01,\n",
       "       -3.33926730e+01,  3.84888783e+01,  7.54741212e+01,  3.10708749e+01,\n",
       "        1.98040393e+00, -1.97219074e+01,  7.18701859e+00,  5.90998444e+01,\n",
       "        2.75177083e+01,  3.59626969e+01, -9.16085916e+00, -5.81788679e+01,\n",
       "        7.81603919e+00, -5.70341999e+01,  1.14122589e+02,  7.63218435e+01,\n",
       "       -4.93856165e+01,  8.95577841e+00,  2.01332308e+01,  6.65167878e+01,\n",
       "       -5.73214165e-01, -3.94724826e+01,  1.09087294e+01, -3.31828512e+01,\n",
       "       -3.65813295e+00,  3.70591167e+01,  5.18581166e-01,  3.53180246e+01,\n",
       "        5.71519014e+01,  1.20732330e+02, -5.75505907e+01,  1.42442310e+01,\n",
       "        1.00404492e+01, -4.67282387e+01,  8.50825783e+00,  3.35673196e+01,\n",
       "        1.59532743e+01, -4.66953899e+01, -3.22877422e+01,  2.75594309e+00,\n",
       "       -1.75560669e+01,  1.93198715e+01, -4.08050355e+01,  5.59006022e+01,\n",
       "       -4.49076036e+01, -4.59378039e+01, -6.05979547e+01,  5.50872163e+01,\n",
       "        2.86060873e+01, -3.29875121e+01,  4.46073381e+00,  2.46427971e+01,\n",
       "       -4.72942834e+00, -4.01463219e+01, -7.67326304e+01, -2.56456743e+01,\n",
       "       -3.41555322e+00,  2.40773268e+01, -1.28176771e+02, -3.09369916e+01,\n",
       "        1.37142483e+01,  9.50216805e+01,  8.34458135e+00,  5.40158532e+01,\n",
       "        2.05442051e+01, -6.31234424e+01, -7.28249356e+00, -2.56737033e+01,\n",
       "       -1.68064000e+01,  3.74906925e+01,  4.55762699e+01, -4.61966709e+00,\n",
       "        7.39597459e+01,  6.68657397e+00, -4.04456198e+01,  6.34459156e+01,\n",
       "        7.60150959e+01,  1.54111432e+01,  3.67538834e+00, -6.39833739e+01,\n",
       "        1.96066957e+01, -2.91321413e+01,  5.51921330e+01,  2.02430843e+01,\n",
       "        2.72262663e+01,  5.49235523e+01, -3.08151449e+01, -3.24532093e+01,\n",
       "       -7.48233095e+00,  1.77712433e+00,  3.79217539e+00, -7.53187088e+00,\n",
       "        7.33708533e+01,  3.36967286e+01,  2.33245516e+01,  5.28645077e+01,\n",
       "        2.15904654e+01, -7.97795583e+01, -2.22141008e+01, -1.59205373e+01,\n",
       "       -1.09419811e+01, -1.11160199e+01,  2.27488638e+01, -3.56112356e+01,\n",
       "       -3.23657492e+01, -1.87249803e+01,  6.62139182e+01,  1.68441775e+01,\n",
       "        6.11449794e+01, -4.02792393e+01, -3.03648077e+01,  1.26525741e+02,\n",
       "       -9.20785447e+00, -9.47800631e+00, -3.22659339e+01, -1.24616024e+01,\n",
       "       -7.31138444e+01,  5.50288592e+01, -3.57802508e+01,  2.83223960e+01,\n",
       "       -9.96026667e+00, -1.58134152e+01,  7.13413034e+01,  3.33371630e+01,\n",
       "        4.72573033e+01,  9.29907760e+00,  6.11912211e+01,  4.59137464e+01,\n",
       "        2.88629432e+01, -2.93367429e+01, -2.68577344e+01,  7.74365586e+01,\n",
       "        6.79588579e+01,  4.04298987e+01,  4.43024810e+01,  5.22497574e+00,\n",
       "        7.81147826e+01,  6.70874793e+01,  6.68427418e+01,  7.48538597e+01,\n",
       "       -3.41502265e+01, -3.66942032e+00,  4.41487914e+01,  3.51580469e+01,\n",
       "       -4.76731763e+01,  4.20553665e+01,  5.58410530e+00,  2.75187096e+01,\n",
       "        1.26100182e+01,  3.47221337e+00,  4.18679530e+00,  9.40355269e+01,\n",
       "        4.41586631e+01, -1.46814269e+01, -5.81263192e+01, -2.70162043e+01,\n",
       "       -4.59807678e+00,  2.93183380e+01, -4.58576115e+01, -2.11023317e+01,\n",
       "        4.58767099e+01,  6.97978837e+00,  7.36736604e+01,  7.61987187e+01,\n",
       "       -1.01032297e+02,  3.31740604e+01, -3.16398674e+00,  1.31516511e+00,\n",
       "       -1.30376794e+01,  8.19358322e+01,  3.49266465e+01,  6.26286667e+01,\n",
       "       -1.82496064e+01,  3.19711237e+01,  3.43013307e+01,  5.89352988e+01,\n",
       "       -2.18966118e+01, -2.12761561e+01,  1.31436722e+02, -1.83556039e+01,\n",
       "        1.57069059e+01,  4.83526251e+01,  3.22004266e+00,  1.38304748e+00,\n",
       "       -2.81271932e+01,  6.37024065e+01,  4.43100219e+01,  1.01931620e+02,\n",
       "        3.94781368e+01,  2.39000057e+01,  4.02790295e+00,  7.08158652e+01,\n",
       "        4.55602735e+01, -4.38295591e+01, -6.31245992e+01, -2.64788954e+01,\n",
       "       -7.21364332e+00,  8.07827545e-02,  1.09567744e+01,  1.57251375e+00,\n",
       "        3.19705799e+01,  5.39380813e+01,  4.31408514e+00,  2.04105419e+02,\n",
       "        6.60145546e+01,  1.31056327e+00,  3.25059709e+01, -3.93312176e+01,\n",
       "        9.34868956e+01, -2.34186066e+01,  2.26919401e+00, -6.00309484e+01,\n",
       "        2.48186311e+01,  2.77049889e+01,  9.30956777e+01,  8.40835422e+01,\n",
       "        8.85447158e+01,  1.20261804e+02, -3.19904012e+01,  4.98785591e+01,\n",
       "        3.25798235e+01,  2.48640009e+01, -1.68533649e+01, -8.52180082e+01,\n",
       "        1.09661677e+01,  4.09659918e+00, -6.61030122e+01, -2.20676427e+00,\n",
       "        1.12517495e+02, -7.20137582e+01,  3.88173089e-01, -4.70205226e+01,\n",
       "        3.46940159e+01, -4.52229709e+01,  9.82786450e+01,  2.06681330e+01,\n",
       "       -5.36022237e+01,  1.40551793e+01, -2.12288034e+01,  3.44397602e+01,\n",
       "        1.97751508e+01, -6.66434026e+01, -1.62217855e+01,  6.65335158e+01,\n",
       "       -3.33363246e+01,  7.46649821e+00, -8.92503121e+00, -9.94002268e+00,\n",
       "       -2.94719410e+00, -1.04455927e+02,  3.30964425e+01,  5.66488639e-01,\n",
       "        4.06887079e+01, -5.65770638e+01,  8.14472564e+01,  7.83156939e+01,\n",
       "       -4.42701496e+01,  2.06945363e+01,  2.56331068e+01,  1.81515366e+01,\n",
       "       -3.69840147e+01,  8.53525398e+01, -6.78613755e+01,  5.06490640e+01,\n",
       "        6.30194038e+01, -2.44624013e+01, -5.33198533e+00, -4.56988100e+01,\n",
       "        4.71483114e+01,  6.19253670e+01, -3.84160227e+01,  8.00819443e+01,\n",
       "        3.35711128e+00, -1.08302471e+01,  5.37845477e+01, -2.17392469e+01,\n",
       "       -2.37475487e+01,  4.23421991e+01,  2.68997856e+01,  1.18271091e+02,\n",
       "       -5.54531284e+01, -8.94638429e+01,  5.09367040e+01,  2.12154605e+01,\n",
       "       -3.80730412e+01, -4.09656394e+01, -4.25980085e+01,  4.83870992e+01,\n",
       "        7.54364778e+01, -8.39042659e+01, -3.43714367e+01, -2.15475651e+01,\n",
       "       -2.26918425e+01,  4.64190408e+01,  1.40809551e+01, -3.15502789e+01,\n",
       "        7.77879385e+01, -4.53450174e+01,  2.20575589e+01,  1.18379808e+02,\n",
       "        5.20931770e+01, -3.40454899e+01,  1.75631768e+01,  8.29735662e+01,\n",
       "        9.51364256e+00, -1.72490765e+01,  1.50011503e+01, -2.90109917e+01,\n",
       "        2.12037478e+01,  1.09597519e+01, -3.57211839e+01, -1.07878236e+01,\n",
       "        3.12001718e+01,  1.80029094e+01,  1.10845554e+02,  3.22974017e+01,\n",
       "        9.12765656e+01,  1.08385696e+02,  2.54479148e+01, -3.93439590e+01,\n",
       "       -9.47258632e+01, -7.42984581e+01, -1.65646302e+01, -7.23822637e+00,\n",
       "       -1.64781975e+01,  3.72443318e+01,  3.80759256e+01,  2.46086727e+01,\n",
       "        3.26701548e+00,  3.57508833e+01,  8.42604455e+01, -3.47106315e+01,\n",
       "       -2.55664895e+01, -1.60131917e+01, -4.82993633e+01, -5.52598776e+01,\n",
       "       -4.86726670e+01, -7.19374313e+01,  4.05247060e+01,  4.51986901e+01,\n",
       "        7.18926352e+01, -1.27382265e+02,  4.68424189e+00, -3.88118358e+01,\n",
       "        3.39610005e+01,  4.61022455e+01, -8.35608181e+01,  5.56709648e+00,\n",
       "        1.98028007e+01,  1.00959731e+02,  3.93212287e+01, -4.85080604e+01,\n",
       "       -7.18035484e+01,  4.32069059e+01, -1.39259866e+01, -7.65947238e+01,\n",
       "       -9.12877637e+01,  2.36014547e+00,  9.03595369e+01,  2.82459935e+01,\n",
       "       -2.17395606e+01, -5.58728836e+01, -2.60833866e+01,  6.97611264e+01,\n",
       "       -2.35763888e+01, -1.59638134e+01,  2.33352956e+01, -9.26165794e+01,\n",
       "        3.67584776e+00, -3.19953436e+01,  1.61001637e+01,  4.86810157e+00,\n",
       "       -2.59239848e+01,  3.52507000e+01, -2.44684316e+01,  1.90083464e+01,\n",
       "       -1.07638626e+01,  9.47915018e+01,  5.85626795e+01,  4.48842525e+01,\n",
       "        3.16399308e+01, -1.16899309e+02,  4.28468027e+01, -1.66452970e+01,\n",
       "       -7.80379862e+01, -9.75245122e-01,  4.13927191e+01,  5.55207475e+01,\n",
       "       -5.65337607e+00,  1.00195947e+01, -5.23176530e+01, -6.35684487e+00,\n",
       "        2.56303016e+01, -4.81589280e+01, -5.70002442e+00, -5.45953698e+00,\n",
       "       -6.88166338e+01, -3.20311500e+01,  5.48259843e+01,  3.64877302e+01,\n",
       "        1.07963931e+02,  1.71097092e+01,  2.48494065e+01, -6.57790746e+01,\n",
       "       -9.19555762e+01,  5.97081150e+01, -4.16598582e+01, -4.51415139e+01,\n",
       "        6.26490219e+01,  5.98388070e+01,  6.51640086e+01,  6.63052917e+01,\n",
       "       -3.48049385e+01, -8.86920502e-01, -3.95629496e+01,  1.77169256e+01,\n",
       "        2.76735784e+01, -3.45314244e+01,  2.22887769e+01, -1.38112703e+01,\n",
       "       -1.38244197e+01,  1.31728486e+01,  6.75809509e+01,  6.94293085e+01,\n",
       "        1.53027285e+01, -2.14382921e+01,  7.96214597e+01,  5.72338570e+01,\n",
       "       -6.42897104e+01, -2.06718131e+01, -5.72401013e+01, -1.69419516e+01,\n",
       "       -3.37272473e+01,  1.58907960e+01,  8.26722876e+01,  1.36390375e+01,\n",
       "        2.93166510e-01, -1.05931965e+02,  8.48365955e+01,  2.26153843e+01,\n",
       "       -6.03472839e+01,  9.43357209e+01,  1.43760856e+01,  1.05748451e+02,\n",
       "        3.85657894e+01,  5.38535113e+01,  2.75627218e+01,  2.65492631e+01,\n",
       "        1.84091245e+00, -1.30204130e+01,  2.77343491e+01,  9.02136165e+00,\n",
       "        9.52244780e+01,  8.96613756e+01,  8.47125346e+01, -2.08694487e+01,\n",
       "        3.54623804e+01,  9.05546193e+01,  6.72094680e+00, -1.99830355e+01,\n",
       "       -5.59386190e+01, -3.14849166e+01, -1.74174111e+01, -1.45248045e+01,\n",
       "       -6.55671446e+01, -2.93505964e+01, -9.29649870e+00, -1.27331231e+01,\n",
       "       -5.27945517e+01, -1.84080822e+01,  5.28371479e+01, -5.48363437e+01,\n",
       "       -6.90670703e+01, -4.50431917e+01, -1.29741725e+01, -7.06227486e-01,\n",
       "        7.53912957e+01,  4.81692998e+01,  7.66912619e+00,  9.86660636e+00,\n",
       "        5.38798586e+01,  3.11766570e+01, -1.14873680e+01, -7.25608043e+01,\n",
       "       -1.16511841e-01,  5.79570235e+01,  5.55019210e+01,  5.29370804e+00,\n",
       "       -2.94293720e+01,  2.63982514e+01,  4.46678671e+01,  4.08200099e+01,\n",
       "        9.96361517e+01,  2.29184491e+01,  3.31430386e+01,  1.60811378e+01,\n",
       "       -2.80683249e+00,  3.29556327e+01,  1.73565500e+01, -5.68082589e+01,\n",
       "        1.02112584e+02, -6.11706045e+01,  8.40465746e+01,  1.68513902e+01,\n",
       "        5.19451200e+01,  1.60101904e+01,  3.44215337e+01,  2.06227783e+01,\n",
       "        1.93177886e+01,  1.03618949e+02,  7.63971705e+01, -3.16693719e+01,\n",
       "       -1.64104515e+01,  9.97343466e+01,  1.40562475e+01, -1.95850713e+01,\n",
       "       -3.36806142e+01,  8.10763265e+01,  5.13228180e+01,  6.18352837e+01,\n",
       "       -1.32922570e+01, -4.59434356e+01, -2.58326098e+01,  3.65435014e+01,\n",
       "       -7.37675064e+01, -2.18923858e+01,  4.17184433e+01,  3.20430569e+01,\n",
       "        9.65624716e+01, -1.44942911e+01,  2.34782144e+01,  4.94318603e+01,\n",
       "       -2.44158627e+01, -2.64377532e+01,  5.25463707e+01, -3.86476765e+01,\n",
       "        9.02136682e+01,  6.76850034e+01, -8.42160425e-01,  1.84502088e+01,\n",
       "       -6.30544526e+00,  2.02536437e+01, -2.07191940e+01, -1.28281059e+01,\n",
       "        3.03019002e+01,  2.50422457e+01,  4.74224724e+00,  1.51691240e+01,\n",
       "        2.92170892e+00,  2.57637131e+01,  1.28545450e+02,  4.63400140e+01,\n",
       "       -2.43357446e+01,  6.56666291e+01,  5.33857370e+01, -8.12323405e+01,\n",
       "        5.78228594e+01, -6.45296214e+00,  1.56098862e+02, -2.10742684e+00,\n",
       "        6.61876345e+00,  1.79810477e+01, -1.86263577e+01, -1.16788569e+02,\n",
       "       -5.61887413e+00, -8.74513724e+00,  8.77287394e+01, -5.16075439e+01,\n",
       "        4.01366417e+01, -7.98962874e+00, -4.92792290e+01,  1.52965400e+01])"
      ]
     },
     "execution_count": 13,
     "metadata": {},
     "output_type": "execute_result"
    }
   ],
   "source": [
    "normal_generator(10, 50, 1000)"
   ]
  },
  {
   "cell_type": "code",
   "execution_count": 14,
   "metadata": {},
   "outputs": [
    {
     "data": {
      "text/plain": [
       "(array([ 1.,  0.,  0.,  0.,  0.,  1.,  7.,  1.,  5.,  3.,  3.,  7., 10.,\n",
       "        10., 17., 21., 19., 21., 28., 37., 53., 39., 40., 37., 58., 53.,\n",
       "        48., 56., 64., 38., 52., 45., 33., 35., 28., 25., 21., 17., 14.,\n",
       "        16., 14.,  4.,  6.,  2.,  4.,  2.,  4.,  0.,  0.,  1.]),\n",
       " array([-160.93273774, -154.48429227, -148.0358468 , -141.58740132,\n",
       "        -135.13895585, -128.69051038, -122.2420649 , -115.79361943,\n",
       "        -109.34517396, -102.89672848,  -96.44828301,  -89.99983754,\n",
       "         -83.55139206,  -77.10294659,  -70.65450112,  -64.20605564,\n",
       "         -57.75761017,  -51.30916469,  -44.86071922,  -38.41227375,\n",
       "         -31.96382827,  -25.5153828 ,  -19.06693733,  -12.61849185,\n",
       "          -6.17004638,    0.27839909,    6.72684457,   13.17529004,\n",
       "          19.62373551,   26.07218099,   32.52062646,   38.96907193,\n",
       "          45.41751741,   51.86596288,   58.31440835,   64.76285383,\n",
       "          71.2112993 ,   77.65974477,   84.10819025,   90.55663572,\n",
       "          97.00508119,  103.45352667,  109.90197214,  116.35041761,\n",
       "         122.79886309,  129.24730856,  135.69575403,  142.14419951,\n",
       "         148.59264498,  155.04109045,  161.48953593]),\n",
       " <BarContainer object of 50 artists>)"
      ]
     },
     "execution_count": 14,
     "metadata": {},
     "output_type": "execute_result"
    },
    {
     "data": {
      "image/png": "[encoded data removed]",
      "text/plain": [
       "<Figure size 1152x648 with 2 Axes>"
      ]
     },
     "metadata": {},
     "output_type": "display_data"
    }
   ],
   "source": [
    "fig, axs = plt.subplots(ncols=2)\n",
    "ax1 = plt.subplot(131)\n",
    "ax2 = plt.subplot(132)\n",
    "ax1.hist(normal_generator(10, 1, 1000), bins = 50)\n",
    "ax2.hist(normal_generator(10, 50, 1000), bins = 50)"
   ]
  },
  {
   "cell_type": "markdown",
   "metadata": {},
   "source": [
    "How are the two distributions different?"
   ]
  },
  {
   "cell_type": "code",
   "execution_count": 15,
   "metadata": {},
   "outputs": [],
   "source": [
    "# your answer below"
   ]
  },
  {
   "cell_type": "markdown",
   "metadata": {},
   "source": [
    "## Normal Distribution of Real Data\n",
    "\n",
    "In this challenge we are going to take a look the real data. We will use vehicles.csv file for this exercise"
   ]
  },
  {
   "cell_type": "markdown",
   "metadata": {},
   "source": [
    "First import vehicles.csv.\n",
    "Then plot the histograms for the following variables:\n",
    "\n",
    "1. Fuel Barrels/Year"
   ]
  },
  {
   "cell_type": "code",
   "execution_count": 16,
   "metadata": {},
   "outputs": [
    {
     "data": {
      "text/plain": [
       "array([[<AxesSubplot:title={'center':'Fuel Barrels/Year'}>]], dtype=object)"
      ]
     },
     "execution_count": 16,
     "metadata": {},
     "output_type": "execute_result"
    },
    {
     "data": {
      "image/png": "[encoded data removed]",
      "text/plain": [
       "<Figure size 1152x648 with 1 Axes>"
      ]
     },
     "metadata": {},
     "output_type": "display_data"
    }
   ],
   "source": [
    "# your code here\n",
    "import pandas as pd\n",
    "df = pd.read_csv(\"vehicles.csv\")\n",
    "df.hist(column=\"Fuel Barrels/Year\", bins=30)"
   ]
  },
  {
   "cell_type": "markdown",
   "metadata": {},
   "source": [
    "2. CO2 Emission Grams/Mile "
   ]
  },
  {
   "cell_type": "code",
   "execution_count": 17,
   "metadata": {},
   "outputs": [
    {
     "data": {
      "text/plain": [
       "array([[<AxesSubplot:title={'center':'CO2 Emission Grams/Mile'}>]],\n",
       "      dtype=object)"
      ]
     },
     "execution_count": 17,
     "metadata": {},
     "output_type": "execute_result"
    },
    {
     "data": {
      "image/png": "[encoded data removed]",
      "text/plain": [
       "<Figure size 1152x648 with 1 Axes>"
      ]
     },
     "metadata": {},
     "output_type": "display_data"
    }
   ],
   "source": [
    "# your code here\n",
    "\n",
    "df.hist(column=\"CO2 Emission Grams/Mile\", bins=30)"
   ]
  },
  {
   "cell_type": "markdown",
   "metadata": {},
   "source": [
    "3. Combined MPG"
   ]
  },
  {
   "cell_type": "code",
   "execution_count": 18,
   "metadata": {},
   "outputs": [
    {
     "data": {
      "text/plain": [
       "array([[<AxesSubplot:title={'center':'Combined MPG'}>]], dtype=object)"
      ]
     },
     "execution_count": 18,
     "metadata": {},
     "output_type": "execute_result"
    },
    {
     "data": {
      "image/png": "[encoded data removed]",
      "text/plain": [
       "<Figure size 1152x648 with 1 Axes>"
      ]
     },
     "metadata": {},
     "output_type": "display_data"
    }
   ],
   "source": [
    "# your code here\n",
    "df.hist(column=\"Combined MPG\", bins=30)"
   ]
  },
  {
   "cell_type": "markdown",
   "metadata": {},
   "source": [
    "Which one(s) of the variables are nearly normally distributed? How do you know?"
   ]
  },
  {
   "cell_type": "code",
   "execution_count": 19,
   "metadata": {},
   "outputs": [],
   "source": [
    "# your answer here"
   ]
  },
  {
   "cell_type": "markdown",
   "metadata": {},
   "source": [
    "## Exponential Distribution"
   ]
  },
  {
   "cell_type": "markdown",
   "metadata": {},
   "source": [
    "1. Using `numpy.random.exponential`, create a function that returns a list of numbers exponentially distributed with the mean of 10. \n",
    "\n",
    "1. Use the function to generate two number sequences with the size of 10 and 100.\n",
    "\n",
    "1. Plot the distributions as histograms with the nubmer of bins as 100.\n",
    "\n",
    "Your output should look like below:\n",
    "\n",
    "![exponential distribution](ed.png)"
   ]
  },
  {
   "cell_type": "code",
   "execution_count": 20,
   "metadata": {},
   "outputs": [],
   "source": [
    "# your code here"
   ]
  },
  {
   "cell_type": "code",
   "execution_count": 21,
   "metadata": {},
   "outputs": [],
   "source": [
    "\n",
    "def exponential_sample(count):\n",
    "    return np.random.exponential(scale=10, size=count)"
   ]
  },
  {
   "cell_type": "code",
   "execution_count": 22,
   "metadata": {},
   "outputs": [
    {
     "data": {
      "text/plain": [
       "array([ 4.71714644, 10.02446439,  0.63454931, ...,  0.74049838,\n",
       "       13.42044466, 15.28972691])"
      ]
     },
     "execution_count": 22,
     "metadata": {},
     "output_type": "execute_result"
    }
   ],
   "source": [
    "exponential_sample(10000)"
   ]
  },
  {
   "cell_type": "code",
   "execution_count": 23,
   "metadata": {},
   "outputs": [
    {
     "data": {
      "text/plain": [
       "array([ 0.71395864,  0.97100142,  2.91495147, ...,  5.6291933 ,\n",
       "       31.79002885, 12.79807336])"
      ]
     },
     "execution_count": 23,
     "metadata": {},
     "output_type": "execute_result"
    }
   ],
   "source": [
    "exponential_sample(100000)"
   ]
  },
  {
   "cell_type": "code",
   "execution_count": 24,
   "metadata": {},
   "outputs": [
    {
     "data": {
      "text/plain": [
       "(array([1.1973e+04, 1.0557e+04, 9.2460e+03, 8.1140e+03, 7.2040e+03,\n",
       "        6.4310e+03, 5.6030e+03, 4.8320e+03, 4.3300e+03, 3.8560e+03,\n",
       "        3.3500e+03, 2.8780e+03, 2.5700e+03, 2.2510e+03, 1.9940e+03,\n",
       "        1.7380e+03, 1.5710e+03, 1.4230e+03, 1.1840e+03, 1.0940e+03,\n",
       "        9.7000e+02, 7.9200e+02, 7.1000e+02, 6.1600e+02, 5.6800e+02,\n",
       "        4.7200e+02, 4.4500e+02, 3.8600e+02, 3.5700e+02, 3.2800e+02,\n",
       "        2.4100e+02, 2.2300e+02, 1.9100e+02, 1.6800e+02, 1.7500e+02,\n",
       "        1.3400e+02, 1.5500e+02, 9.9000e+01, 8.4000e+01, 8.6000e+01,\n",
       "        7.3000e+01, 5.4000e+01, 5.1000e+01, 4.6000e+01, 5.0000e+01,\n",
       "        3.9000e+01, 4.2000e+01, 3.4000e+01, 1.9000e+01, 2.6000e+01,\n",
       "        1.5000e+01, 2.0000e+01, 2.0000e+01, 1.4000e+01, 1.5000e+01,\n",
       "        8.0000e+00, 1.3000e+01, 1.0000e+01, 7.0000e+00, 6.0000e+00,\n",
       "        3.0000e+00, 4.0000e+00, 8.0000e+00, 6.0000e+00, 0.0000e+00,\n",
       "        2.0000e+00, 0.0000e+00, 5.0000e+00, 1.0000e+00, 1.0000e+00,\n",
       "        1.0000e+00, 3.0000e+00, 0.0000e+00, 0.0000e+00, 0.0000e+00,\n",
       "        1.0000e+00, 1.0000e+00, 0.0000e+00, 0.0000e+00, 1.0000e+00,\n",
       "        0.0000e+00, 0.0000e+00, 1.0000e+00, 0.0000e+00, 0.0000e+00,\n",
       "        0.0000e+00, 0.0000e+00, 0.0000e+00, 0.0000e+00, 0.0000e+00,\n",
       "        0.0000e+00, 0.0000e+00, 0.0000e+00, 0.0000e+00, 0.0000e+00,\n",
       "        0.0000e+00, 0.0000e+00, 0.0000e+00, 0.0000e+00, 1.0000e+00]),\n",
       " array([2.95888481e-05, 1.27659877e+00, 2.55316795e+00, 3.82973714e+00,\n",
       "        5.10630632e+00, 6.38287550e+00, 7.65944468e+00, 8.93601387e+00,\n",
       "        1.02125830e+01, 1.14891522e+01, 1.27657214e+01, 1.40422906e+01,\n",
       "        1.53188598e+01, 1.65954290e+01, 1.78719981e+01, 1.91485673e+01,\n",
       "        2.04251365e+01, 2.17017057e+01, 2.29782749e+01, 2.42548441e+01,\n",
       "        2.55314132e+01, 2.68079824e+01, 2.80845516e+01, 2.93611208e+01,\n",
       "        3.06376900e+01, 3.19142592e+01, 3.31908283e+01, 3.44673975e+01,\n",
       "        3.57439667e+01, 3.70205359e+01, 3.82971051e+01, 3.95736742e+01,\n",
       "        4.08502434e+01, 4.21268126e+01, 4.34033818e+01, 4.46799510e+01,\n",
       "        4.59565202e+01, 4.72330893e+01, 4.85096585e+01, 4.97862277e+01,\n",
       "        5.10627969e+01, 5.23393661e+01, 5.36159353e+01, 5.48925044e+01,\n",
       "        5.61690736e+01, 5.74456428e+01, 5.87222120e+01, 5.99987812e+01,\n",
       "        6.12753503e+01, 6.25519195e+01, 6.38284887e+01, 6.51050579e+01,\n",
       "        6.63816271e+01, 6.76581963e+01, 6.89347654e+01, 7.02113346e+01,\n",
       "        7.14879038e+01, 7.27644730e+01, 7.40410422e+01, 7.53176114e+01,\n",
       "        7.65941805e+01, 7.78707497e+01, 7.91473189e+01, 8.04238881e+01,\n",
       "        8.17004573e+01, 8.29770265e+01, 8.42535956e+01, 8.55301648e+01,\n",
       "        8.68067340e+01, 8.80833032e+01, 8.93598724e+01, 9.06364415e+01,\n",
       "        9.19130107e+01, 9.31895799e+01, 9.44661491e+01, 9.57427183e+01,\n",
       "        9.70192875e+01, 9.82958566e+01, 9.95724258e+01, 1.00848995e+02,\n",
       "        1.02125564e+02, 1.03402133e+02, 1.04678703e+02, 1.05955272e+02,\n",
       "        1.07231841e+02, 1.08508410e+02, 1.09784979e+02, 1.11061548e+02,\n",
       "        1.12338118e+02, 1.13614687e+02, 1.14891256e+02, 1.16167825e+02,\n",
       "        1.17444394e+02, 1.18720964e+02, 1.19997533e+02, 1.21274102e+02,\n",
       "        1.22550671e+02, 1.23827240e+02, 1.25103809e+02, 1.26380379e+02,\n",
       "        1.27656948e+02]),\n",
       " <BarContainer object of 100 artists>)"
      ]
     },
     "execution_count": 24,
     "metadata": {},
     "output_type": "execute_result"
    },
    {
     "data": {
      "image/png": "[encoded data removed]",
      "text/plain": [
       "<Figure size 1152x648 with 2 Axes>"
      ]
     },
     "metadata": {},
     "output_type": "display_data"
    }
   ],
   "source": [
    "fig, axs = plt.subplots(ncols=2)\n",
    "ax1 = plt.subplot(131)\n",
    "ax2 = plt.subplot(132)\n",
    "ax1.hist(exponential_sample(1000), bins = 100)\n",
    "ax2.hist(exponential_sample(100000), bins = 100)"
   ]
  },
  {
   "cell_type": "markdown",
   "metadata": {},
   "source": [
    "How are the two distributions different?"
   ]
  },
  {
   "cell_type": "code",
   "execution_count": 25,
   "metadata": {},
   "outputs": [],
   "source": [
    "# your answer here"
   ]
  },
  {
   "cell_type": "markdown",
   "metadata": {},
   "source": [
    "## Exponential Distribution of Real Data\n",
    "\n",
    "Suppose that the amount of time one spends in a bank is exponentially distributed with mean as 10 minutes (i.e. λ = 1/10). What is the probability that a customer will spend less than fifteen minutes in the bank? \n",
    "\n",
    "Write a code in python to solve this problem"
   ]
  },
  {
   "cell_type": "code",
   "execution_count": 26,
   "metadata": {},
   "outputs": [],
   "source": [
    "# your answer here\n",
    "# Hint: This is same as saying P(x<15)"
   ]
  },
  {
   "cell_type": "markdown",
   "metadata": {},
   "source": [
    "What is the probability that the customer will spend more than 15 minutes"
   ]
  },
  {
   "cell_type": "code",
   "execution_count": 27,
   "metadata": {},
   "outputs": [],
   "source": [
    "# your answer here"
   ]
  },
  {
   "cell_type": "code",
   "execution_count": 28,
   "metadata": {},
   "outputs": [
    {
     "data": {
      "text/plain": [
       "0.7768698398515702"
      ]
     },
     "execution_count": 28,
     "metadata": {},
     "output_type": "execute_result"
    }
   ],
   "source": [
    "from scipy.stats import expon\n",
    "my_e = expon(scale=10)\n",
    "my_e.cdf(15)"
   ]
  },
  {
   "cell_type": "code",
   "execution_count": 29,
   "metadata": {},
   "outputs": [
    {
     "data": {
      "text/plain": [
       "0.2231301601484298"
      ]
     },
     "execution_count": 29,
     "metadata": {},
     "output_type": "execute_result"
    }
   ],
   "source": [
    "1-my_e.cdf(15)"
   ]
  }
 ],
 "metadata": {
  "kernelspec": {
   "display_name": "Python 3 (ipykernel)",
   "language": "python",
   "name": "python3"
  },
  "language_info": {
   "codemirror_mode": {
    "name": "ipython",
    "version": 3
   },
   "file_extension": ".py",
   "mimetype": "text/x-python",
   "name": "python",
   "nbconvert_exporter": "python",
   "pygments_lexer": "ipython3",
   "version": "3.9.12"
  },
  "toc": {
   "base_numbering": 1,
   "nav_menu": {},
   "number_sections": true,
   "sideBar": true,
   "skip_h1_title": false,
   "title_cell": "Table of Contents",
   "title_sidebar": "Contents",
   "toc_cell": false,
   "toc_position": {},
   "toc_section_display": true,
   "toc_window_display": false
  }
 },
 "nbformat": 4,
 "nbformat_minor": 2
}
