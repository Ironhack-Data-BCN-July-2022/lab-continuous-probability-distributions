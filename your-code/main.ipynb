{
 "cells": [
  {
   "cell_type": "code",
   "execution_count": 10,
   "metadata": {},
   "outputs": [],
   "source": [
    "import numpy as np\n",
    "from matplotlib import pyplot as plt\n",
    "%matplotlib inline\n",
    "%config Inlinebackend.figure_format = 'retina'\n",
    "\n",
    "import scipy.stats\n",
    "from scipy.stats import binom\n",
    "from scipy.stats import poisson\n",
    "\n",
    "import seaborn as sns\n",
    "sns.set_context('poster')\n",
    "sns.set(rc={'figure.figsize': (16., 9.)})\n",
    "sns.set_style('whitegrid')"
   ]
  },
  {
   "cell_type": "markdown",
   "metadata": {},
   "source": [
    "# Before your start:\n",
    "\n",
    "    Read the README.md file\n",
    "    Comment as much as you can and use the resources (README.md file)\n",
    "    Happy learning!"
   ]
  },
  {
   "cell_type": "markdown",
   "metadata": {},
   "source": [
    "In this exercise, we  will generate random numbers from the continuous disributions we learned in the lesson. There are two ways to generate random numbers:\n",
    "\n",
    "1. Using the numpy library \n",
    "1. using the Scipy library \n",
    "\n",
    "Use either or both of the lbraries in this exercise."
   ]
  },
  {
   "cell_type": "markdown",
   "metadata": {},
   "source": [
    "## Uniform Distribution\n",
    "\n",
    "To generate uniform random numbers between any two given values using scipy, we can either use the following code or the code that we have\n",
    "discussed in class:"
   ]
  },
  {
   "cell_type": "code",
   "execution_count": 1,
   "metadata": {},
   "outputs": [
    {
     "name": "stdout",
     "output_type": "stream",
     "text": [
      "[2.574524   2.31274128 2.42798837 2.10388882 2.22410381 2.36598135\n",
      " 2.96752796 2.58783453 2.45237571 2.3979246 ]\n"
     ]
    }
   ],
   "source": [
    "from scipy.stats import uniform\n",
    "x = uniform.rvs(size=10)\n",
    "a = 2\n",
    "b = 3\n",
    "randoms  = a + (b-a)*x\n",
    "print(randoms)"
   ]
  },
  {
   "cell_type": "markdown",
   "metadata": {},
   "source": [
    "**Your task:**\n",
    "\n",
    "1. Based on the code above, write a function that generates uniformly distributed random numbers. There are several requirements for your function:\n",
    "    * It should accept 3 parameters: \n",
    "        * `bottom` - the lower boundary of the generated numbers\n",
    "        * `ceiling` - the upper boundary of the generated numbers\n",
    "        * `count` - how many numbers to generate\n",
    "    * It should return an array of uniformly distributed random numbers\n",
    "\n",
    "1. Call your function with 2 sets of params below:\n",
    "    * bottom=10, ceiling=15, count=100\n",
    "    * bottom=10, ceiling=60, count=1,000\n",
    "\n",
    "1. Plot the uniform distributions generated above using histograms, where x axis is the value and y axis is the count. Let the histogram's number of bins be 10.\n",
    "\n",
    "Your output should look like below:\n",
    "\n",
    "![uniform distribution](ud.png)"
   ]
  },
  {
   "cell_type": "code",
   "execution_count": 6,
   "metadata": {},
   "outputs": [],
   "source": [
    "def unif_generator(bottom, ceiling, count):\n",
    "    return bottom + (ceiling-bottom)*uniform.rvs(size=count)"
   ]
  },
  {
   "cell_type": "code",
   "execution_count": 7,
   "metadata": {
    "scrolled": false
   },
   "outputs": [
    {
     "data": {
      "text/plain": [
       "array([11.89454769, 10.62517524, 10.14432006, 11.42126571, 10.76119492,\n",
       "       14.10611938, 11.10240916, 11.75561969, 12.21780847, 12.22274961,\n",
       "       11.7183197 , 14.12482465, 11.50087675, 14.97488611, 12.18582822,\n",
       "       10.06010391, 10.92311539, 12.05001092, 14.66775986, 10.40183556,\n",
       "       14.14277437, 11.73886366, 14.36193608, 13.05476882, 10.90725685,\n",
       "       10.24201408, 12.96030581, 12.08583604, 11.39416019, 13.21369186,\n",
       "       12.33671196, 10.49901658, 14.47023736, 13.00561797, 13.51654188,\n",
       "       10.46466643, 11.09960784, 11.59240074, 14.82940391, 11.98935278,\n",
       "       14.34579348, 11.92841098, 11.1610639 , 12.15865649, 10.17293081,\n",
       "       14.97637291, 12.12042283, 10.38106411, 10.83874005, 14.05980258,\n",
       "       10.15820412, 14.71773852, 13.08540332, 13.85827244, 14.21686325,\n",
       "       10.33265317, 12.24211259, 13.09508658, 11.04231684, 12.36616517,\n",
       "       11.99696691, 14.83701217, 11.23219461, 10.10087692, 10.28175671,\n",
       "       12.75278391, 13.21832906, 11.1483178 , 14.08519456, 12.12113505,\n",
       "       12.3503717 , 10.02254576, 12.29252405, 13.04493567, 11.21342783,\n",
       "       12.63847888, 14.14812688, 12.32727295, 12.94729567, 11.61218989,\n",
       "       12.26969269, 12.00274506, 14.37004276, 12.36915773, 14.91225579,\n",
       "       13.94155305, 11.48470384, 14.05008455, 12.03529622, 10.70854439,\n",
       "       11.13685114, 13.73270284, 13.55526014, 11.77194169, 12.76513418,\n",
       "       11.44556736, 13.64922554, 14.79548087, 13.01323693, 14.90444451])"
      ]
     },
     "execution_count": 7,
     "metadata": {},
     "output_type": "execute_result"
    }
   ],
   "source": [
    "unif_generator(10,15,100)"
   ]
  },
  {
   "cell_type": "code",
   "execution_count": 8,
   "metadata": {},
   "outputs": [
    {
     "data": {
      "text/plain": [
       "array([56.16580039, 37.53747633, 12.79204935, 13.89104351, 28.22954653,\n",
       "       17.09453508, 47.32878831, 41.15336362, 48.17243501, 18.06063214,\n",
       "       16.00705203, 13.33218194, 44.76534185, 36.06943475, 14.11814658,\n",
       "       23.13907741, 51.50882179, 31.20115485, 18.89670255, 17.6191895 ,\n",
       "       22.20978012, 34.33083805, 33.48004095, 11.74723627, 11.75473315,\n",
       "       39.14712144, 22.64906975, 54.27048284, 21.04113652, 22.28253568,\n",
       "       48.27144326, 26.54989738, 51.34959852, 32.71452419, 19.64617064,\n",
       "       16.37193356, 35.46860419, 33.89068993, 21.85325168, 35.40760113,\n",
       "       12.17383438, 49.41640103, 50.24915172, 40.08491306, 10.92544314,\n",
       "       25.54528583, 37.83729808, 46.78108586, 24.81153515, 10.17669512,\n",
       "       59.11167625, 42.53062501, 21.42005349, 16.22733182, 48.85778443,\n",
       "       50.64651541, 36.90452349, 12.99215346, 15.94205352, 16.93806701,\n",
       "       45.23850545, 55.6613465 , 37.27385802, 23.06930649, 30.68366874,\n",
       "       40.88861432, 19.59635329, 23.17549995, 24.03281139, 57.64672773,\n",
       "       42.95328315, 57.05445653, 19.81565859, 33.75887789, 34.69972229,\n",
       "       55.83433143, 10.75419997, 37.15933737, 20.92194023, 41.78336786,\n",
       "       49.03976121, 47.73230225, 41.07950609, 29.69130356, 37.64918143,\n",
       "       43.33242966, 40.35235732, 23.09409099, 52.50352534, 48.05795638,\n",
       "       29.23467376, 38.4003809 , 36.17608769, 47.25187997, 15.80316934,\n",
       "       12.28650865, 56.01346861, 35.08707349, 27.4767504 , 58.32417967,\n",
       "       12.62400461, 41.32384064, 56.03806226, 39.50402515, 54.96389976,\n",
       "       21.66028902, 13.04280696, 43.40554379, 16.8926323 , 57.17556512,\n",
       "       21.67625511, 13.13186003, 31.09523135, 28.62987554, 15.30476634,\n",
       "       34.88238051, 48.75202438, 20.05894111, 11.16622634, 22.03934998,\n",
       "       40.08429445, 26.40312647, 20.69231569, 50.66761979, 18.38247672,\n",
       "       33.82635239, 33.18274054, 56.7581908 , 40.85285627, 31.42174626,\n",
       "       58.32603155, 59.53274308, 39.92923017, 54.62508619, 24.2630654 ,\n",
       "       49.64820246, 17.34644789, 13.84302561, 24.6642317 , 10.81701681,\n",
       "       20.60617579, 12.97569525, 15.53957087, 23.68712124, 54.93360595,\n",
       "       39.60252728, 33.73998259, 11.49281522, 47.40858229, 24.18560213,\n",
       "       30.38191618, 35.99822341, 33.01968642, 26.21478401, 35.28112011,\n",
       "       56.56197599, 23.9016055 , 34.63744581, 44.04440622, 11.71146945,\n",
       "       13.0010683 , 24.07787334, 10.85685695, 37.95828123, 48.35133014,\n",
       "       35.11033595, 51.89435798, 47.38171691, 19.51322007, 35.93761384,\n",
       "       19.50702181, 43.59304897, 51.94600066, 33.90324596, 26.55861697,\n",
       "       32.17940696, 19.05895347, 46.38899201, 34.06728945, 35.02698873,\n",
       "       12.12711719, 25.87533746, 48.12831115, 50.82246151, 50.12834974,\n",
       "       39.55387296, 50.69177985, 16.56325241, 25.0412849 , 45.73907918,\n",
       "       56.93827489, 11.73981772, 27.99984333, 17.32099008, 49.02731506,\n",
       "       14.93721094, 40.95873696, 12.24553561, 21.23971807, 11.56701041,\n",
       "       54.57884051, 50.5790197 , 36.41604964, 38.72039418, 36.70686552,\n",
       "       34.62163422, 17.29625809, 13.16415126, 23.62309383, 38.61463763,\n",
       "       11.81262668, 10.3790235 , 36.6626213 , 26.02230414, 15.14596051,\n",
       "       22.59046137, 29.98797752, 12.29762396, 50.32959756, 53.47850228,\n",
       "       40.95678378, 57.75835771, 40.13778321, 26.05921046, 38.29380669,\n",
       "       49.76543852, 44.0517481 , 38.70903856, 28.41972038, 17.23655016,\n",
       "       34.82310042, 30.91133475, 32.85842669, 56.45035832, 24.64497869,\n",
       "       46.88804326, 37.02322333, 55.63736254, 23.75316348, 24.40258634,\n",
       "       11.1473015 , 55.61919651, 43.16188059, 54.72343348, 35.28816839,\n",
       "       26.5846738 , 55.91825273, 26.66021323, 30.52678315, 13.25784061,\n",
       "       22.67118044, 58.53359413, 53.25869969, 46.69292667, 44.64515527,\n",
       "       57.71221045, 16.97657822, 10.63299819, 20.05852657, 35.89858203,\n",
       "       15.90801459, 36.93056664, 54.83106888, 41.28503199, 29.45437359,\n",
       "       23.45673019, 57.29926149, 20.19627536, 13.0372775 , 43.89698242,\n",
       "       45.19877494, 55.60709243, 29.28959367, 26.38279792, 50.02271665,\n",
       "       56.41565179, 52.13537391, 41.06996015, 35.67824366, 37.06918146,\n",
       "       20.69414592, 18.92722107, 48.61408417, 51.18002338, 34.54640215,\n",
       "       25.79392815, 59.26795212, 42.53997139, 20.46897907, 17.67712341,\n",
       "       15.8408746 , 58.83868679, 47.80570451, 44.05144451, 20.63915819,\n",
       "       37.733985  , 58.77701133, 40.62336522, 13.57967119, 36.72501887,\n",
       "       27.94038258, 54.61300427, 11.07203805, 12.09647602, 30.78088849,\n",
       "       37.19926029, 37.71234555, 59.36096528, 47.29588608, 16.40136378,\n",
       "       35.18901144, 39.3553823 , 45.26634809, 15.23764604, 54.33592745,\n",
       "       13.83776916, 48.16303217, 20.33594161, 19.16379581, 47.1097011 ,\n",
       "       29.96381813, 49.27208635, 19.06823464, 31.62359764, 10.69464049,\n",
       "       24.10077914, 42.4966517 , 11.40901853, 15.86412283, 37.9993475 ,\n",
       "       36.94455846, 13.74803866, 35.34055103, 22.9961486 , 36.36636196,\n",
       "       16.60980446, 51.22395007, 35.10224405, 57.42896372, 24.65694105,\n",
       "       36.09180591, 13.83305461, 28.28492115, 14.03053358, 53.09499848,\n",
       "       13.96019162, 10.95536538, 53.47129525, 43.09095757, 26.17541284,\n",
       "       15.83373518, 19.42537609, 47.59779652, 54.58964046, 21.97558406,\n",
       "       32.7148398 , 17.65883748, 57.05955258, 12.96930244, 26.3421148 ,\n",
       "       10.71284375, 37.51826528, 42.03721753, 14.86362687, 55.91751479,\n",
       "       13.22939121, 55.0485291 , 24.43895904, 16.5825874 , 23.06190111,\n",
       "       34.01981941, 27.97831783, 53.30502199, 13.52766704, 19.05712244,\n",
       "       57.30048417, 25.97761955, 59.86091684, 42.94755815, 50.31900949,\n",
       "       19.97634757, 36.82066226, 44.93302606, 39.24156492, 28.61300953,\n",
       "       12.41001534, 25.77176287, 53.7480713 , 32.92228191, 48.4476468 ,\n",
       "       54.27855928, 59.42796508, 15.77989212, 31.39525787, 10.97334595,\n",
       "       42.86278184, 49.98170865, 14.30028446, 36.08724688, 59.08572164,\n",
       "       53.32781023, 25.49864006, 35.42489025, 42.92790189, 11.73979089,\n",
       "       57.56919029, 42.58783387, 59.3925252 , 14.17680693, 12.41435442,\n",
       "       22.76419269, 51.31054497, 44.29578159, 31.71383855, 43.787535  ,\n",
       "       22.37532466, 57.16670526, 43.40354863, 17.22055317, 35.84166082,\n",
       "       56.75203852, 41.53456882, 55.49971803, 27.11834601, 16.31367926,\n",
       "       31.18444075, 30.19087599, 44.26454518, 43.25462681, 25.59533856,\n",
       "       19.73887712, 18.62935483, 32.30367941, 10.24721307, 19.93640941,\n",
       "       59.30079851, 17.79544204, 26.80244726, 16.49862888, 21.20966564,\n",
       "       17.75450838, 59.32044895, 23.19272993, 40.76604752, 30.67512515,\n",
       "       23.85189932, 20.61492423, 33.05754417, 28.20852828, 23.36489596,\n",
       "       32.0075825 , 43.68173362, 20.27224871, 10.59695342, 24.30550697,\n",
       "       26.80814465, 59.49007391, 50.23060342, 34.70330878, 27.14819938,\n",
       "       58.01964334, 38.17083668, 30.82179797, 50.15184275, 30.92033836,\n",
       "       35.66429535, 38.83933453, 43.04322753, 44.16685675, 16.83559606,\n",
       "       26.36695305, 16.18910503, 54.41633254, 50.18940754, 54.48148192,\n",
       "       48.21644059, 29.82207653, 25.97745334, 32.60087633, 48.71741646,\n",
       "       51.57064993, 24.72304375, 57.74704229, 16.64967544, 43.06042358,\n",
       "       44.79439177, 42.99296898, 55.79222855, 16.27525309, 11.1022015 ,\n",
       "       57.54164931, 53.42718383, 43.29952571, 22.23446774, 48.35895357,\n",
       "       32.03874231, 41.49923564, 29.02291026, 13.40887404, 42.41789488,\n",
       "       37.95808914, 40.27383573, 37.72914383, 29.92497691, 34.88067814,\n",
       "       36.28946743, 25.63367079, 20.22181417, 23.66224367, 56.59468162,\n",
       "       29.83597191, 20.9741097 , 59.22923054, 56.97442434, 58.70922115,\n",
       "       16.76418743, 54.90494908, 56.41897397, 35.13742477, 45.85846406,\n",
       "       11.19321788, 43.25128936, 54.01681745, 49.48900872, 44.16783897,\n",
       "       37.30056569, 58.42255455, 37.20289231, 44.07974769, 44.6035636 ,\n",
       "       59.75574304, 55.0244943 , 24.57515189, 58.88379075, 10.03221164,\n",
       "       18.51582413, 39.74732981, 54.56191515, 21.12322605, 41.10035547,\n",
       "       21.45601636, 26.68346825, 59.84563759, 22.22696598, 20.77418726,\n",
       "       26.24913788, 31.51764336, 46.7842827 , 46.34317056, 47.83384968,\n",
       "       15.16064934, 40.79847242, 11.55658884, 42.80156923, 36.55815358,\n",
       "       31.43377086, 50.67448771, 16.80556727, 55.73238073, 20.47730192,\n",
       "       20.06693308, 14.54341645, 46.90605434, 59.31813347, 36.75844781,\n",
       "       48.80103253, 35.71535807, 14.17366029, 22.38024546, 39.10077475,\n",
       "       57.97396224, 10.40122085, 10.75807079, 17.6985082 , 57.84731808,\n",
       "       30.44574157, 40.47072597, 46.10730398, 16.9409259 , 14.39242638,\n",
       "       49.74105427, 24.43692867, 57.59587366, 23.40856767, 17.94960287,\n",
       "       36.11445314, 32.90820151, 14.90134242, 52.89989344, 59.00954622,\n",
       "       20.55458945, 35.17613292, 18.81999645, 24.47781653, 43.91740158,\n",
       "       14.08695518, 43.00700285, 47.09202441, 58.61402516, 24.61690601,\n",
       "       18.13281342, 25.80175042, 52.25614343, 33.33006703, 11.0340612 ,\n",
       "       14.10682814, 23.85480801, 57.87728493, 23.67832412, 59.98618243,\n",
       "       46.08841745, 20.36158243, 10.70098691, 12.17849493, 38.08680479,\n",
       "       23.36333454, 45.29495506, 20.31888341, 13.62401101, 56.07752248,\n",
       "       45.01780648, 45.07247088, 34.01860552, 18.14104503, 37.45512714,\n",
       "       15.67361477, 57.43671376, 50.23213305, 21.45350439, 55.73449778,\n",
       "       27.33109198, 23.0113169 , 40.23253664, 32.81555309, 59.85861886,\n",
       "       40.37855521, 57.10015918, 30.73856944, 54.81161531, 12.9959002 ,\n",
       "       19.49991682, 55.0166239 , 22.04089906, 55.17630289, 24.73421342,\n",
       "       55.52142849, 31.28754881, 51.6295373 , 57.57656559, 58.75181112,\n",
       "       29.42507494, 48.06772669, 49.06236859, 50.77491566, 48.22642144,\n",
       "       55.01112733, 36.64698714, 33.36613122, 59.40489877, 23.93083262,\n",
       "       26.0817012 , 44.24432008, 42.93977842, 37.3100411 , 33.72074033,\n",
       "       56.32668683, 16.38771814, 34.00043104, 31.0016251 , 39.52607864,\n",
       "       11.53876461, 14.97797735, 35.17198453, 41.22398139, 46.82420182,\n",
       "       26.71299913, 16.40773182, 53.42806832, 50.9509727 , 44.27881068,\n",
       "       29.21923217, 23.38826113, 52.57837062, 29.34735316, 54.74396971,\n",
       "       10.01168823, 25.2793219 , 38.07259751, 29.67135158, 10.11639725,\n",
       "       46.4725625 , 15.65388406, 14.19196497, 49.90354977, 39.13169638,\n",
       "       33.38981019, 36.06157978, 30.06737745, 12.93469328, 16.81544834,\n",
       "       25.09053775, 56.54615986, 17.51432993, 13.34355235, 16.10330078,\n",
       "       21.33355001, 38.08884358, 30.6352521 , 38.51923985, 36.28483866,\n",
       "       14.45148895, 40.2289621 , 40.24287846, 25.5967685 , 37.70378854,\n",
       "       26.75161703, 11.40858403, 35.00481603, 53.87838098, 47.51977169,\n",
       "       22.4079715 , 55.11817625, 23.87202147, 34.36226011, 46.28302721,\n",
       "       25.63058193, 58.40143397, 45.96057288, 19.77106473, 37.48981755,\n",
       "       23.51987638, 32.14566723, 26.94443008, 42.24346508, 55.25905375,\n",
       "       37.26186355, 56.8009912 , 31.60566502, 19.80097937, 28.63235876,\n",
       "       44.98463662, 43.28539412, 50.28937511, 25.62268447, 21.84940674,\n",
       "       19.1705157 , 54.17848566, 33.77394084, 57.81632214, 34.79592967,\n",
       "       42.09113587, 24.62237725, 25.39496273, 41.63701347, 31.60047854,\n",
       "       37.94511248, 52.36827549, 57.75409598, 46.8071654 , 19.93302482,\n",
       "       58.21407196, 55.99353207, 53.54706107, 49.5897786 , 47.42540272,\n",
       "       33.15523145, 34.35512591, 48.3804508 , 58.05687805, 13.923076  ,\n",
       "       48.65194695, 16.08593634, 49.74678935, 43.36947944, 57.9115833 ,\n",
       "       46.79555584, 44.30997717, 25.97954224, 25.61258061, 54.37883133,\n",
       "       41.17664363, 29.31820115, 25.68213954, 40.99707257, 49.43598619,\n",
       "       15.50226127, 31.69958395, 41.19139806, 21.22303522, 43.05584241,\n",
       "       10.02774202, 34.82138036, 37.72691393, 50.73667851, 36.06006638,\n",
       "       37.22334328, 30.97151763, 22.49953043, 33.95707608, 42.99219419,\n",
       "       47.38355535, 52.76385829, 38.33909764, 19.01620869, 32.17081667,\n",
       "       52.02870009, 41.82444907, 10.02486526, 20.49359796, 23.35146059,\n",
       "       50.58220344, 10.42515696, 44.69340212, 50.45478873, 27.69714572,\n",
       "       11.43028406, 57.93489993, 49.15027964, 29.04466581, 40.64858131,\n",
       "       39.81220959, 55.8204067 , 55.35048613, 24.57673745, 36.38870922,\n",
       "       10.69854519, 26.92103621, 45.61773609, 19.95418989, 55.51195223,\n",
       "       10.42984674, 34.79634708, 45.0356187 , 38.3499703 , 25.95457104,\n",
       "       16.04283499, 46.03730289, 12.75921035, 40.68458365, 53.22666853,\n",
       "       35.80413382, 51.59262953, 39.92793791, 24.00930565, 15.18898147,\n",
       "       55.64678787, 34.54474771, 33.22706064, 44.58645104, 26.59257055,\n",
       "       36.23994638, 14.92940188, 25.2487631 , 17.8958795 , 13.38957298,\n",
       "       14.30888875, 34.53013417, 31.42752275, 55.22107459, 58.93325004,\n",
       "       38.86682439, 31.17175641, 12.76874316, 16.9616385 , 25.18028535,\n",
       "       12.91268091, 58.18312449, 15.2456291 , 47.86527841, 12.80367563,\n",
       "       14.87249552, 13.58183417, 59.02101995, 42.97836363, 42.89186   ,\n",
       "       17.93734653, 57.9445517 , 30.42793443, 43.64998317, 35.2066028 ,\n",
       "       14.73533437, 50.15846462, 25.45687083, 30.59246814, 59.86939711,\n",
       "       34.51778765, 49.3792762 , 58.51034276, 20.98156781, 25.80306931,\n",
       "       43.99565854, 29.16902659, 58.83545223, 15.16677779, 54.17377815,\n",
       "       27.61500883, 52.71750216, 40.68041266, 31.12357943, 40.26394792,\n",
       "       13.37734655, 23.78402488, 49.28310864, 26.71934353, 14.48436718,\n",
       "       19.44953928, 41.0310289 , 47.84044799, 53.0837131 , 11.87623262,\n",
       "       10.41276117, 27.91841607, 53.04284311, 45.40775359, 13.21488141,\n",
       "       28.12515709, 53.9041959 , 53.91470965, 29.88408756, 37.48645942,\n",
       "       20.63625811, 36.17341626, 12.90253181, 59.65560259, 46.81150385,\n",
       "       14.04079257, 27.47557483, 38.52759667, 27.16913132, 38.7987188 ,\n",
       "       57.82779298, 48.59031386, 28.94647961, 59.55625599, 43.39983241,\n",
       "       57.67532242, 27.01079021, 36.16493982, 28.93656529, 47.05016234,\n",
       "       59.61560211, 11.09621762, 52.1365953 , 43.85356073, 11.47018815,\n",
       "       45.96343262, 41.12328366, 19.56624288, 39.41971672, 37.35510645,\n",
       "       50.20583131, 26.24778922, 47.35293438, 30.01074965, 37.48112013,\n",
       "       39.73007407, 15.51474075, 41.03485569, 43.81443972, 14.64722854,\n",
       "       17.29660773, 29.92289818, 41.26081905, 29.48547561, 13.00112557,\n",
       "       51.94446621, 36.21841648, 34.58547015, 22.73715436, 51.39889851,\n",
       "       40.75596282, 48.24162795, 38.13418837, 23.17648685, 12.59867968,\n",
       "       10.79762213, 14.81719711, 31.6342468 , 37.29688373, 42.61046235,\n",
       "       20.43518735, 30.8877976 , 44.05159613, 58.3062566 , 14.57582998,\n",
       "       38.05367717, 34.24530883, 57.27338007, 44.84403477, 24.80671029,\n",
       "       19.9227484 , 24.35901006, 46.48907581, 43.18498254, 57.48625087,\n",
       "       20.74662624, 28.58519166, 36.08749567, 25.17643716, 52.01441262])"
      ]
     },
     "execution_count": 8,
     "metadata": {},
     "output_type": "execute_result"
    }
   ],
   "source": [
    "unif_generator(10,60,1000)"
   ]
  },
  {
   "cell_type": "code",
   "execution_count": 39,
   "metadata": {},
   "outputs": [
    {
     "data": {
      "text/plain": [
       "(array([ 97.,  93.,  92., 109., 102., 100., 119.,  99., 101.,  88.]),\n",
       " array([10.0351629 , 15.02886709, 20.02257127, 25.01627545, 30.00997964,\n",
       "        35.00368382, 39.99738801, 44.99109219, 49.98479638, 54.97850056,\n",
       "        59.97220474]),\n",
       " <BarContainer object of 10 artists>)"
      ]
     },
     "execution_count": 39,
     "metadata": {},
     "output_type": "execute_result"
    },
    {
     "data": {
      "image/png": "[encoded data removed]",
      "text/plain": [
       "<Figure size 1152x648 with 2 Axes>"
      ]
     },
     "metadata": {},
     "output_type": "display_data"
    }
   ],
   "source": [
    "fig, axs = plt.subplots(ncols=2)\n",
    "ax1 = plt.subplot(131)\n",
    "ax1.set_ylim([0, 120])\n",
    "ax2 = plt.subplot(132)\n",
    "ax2.set_ylim([0, 120])\n",
    "ax1.hist(unif_generator(10,15,100), bins=10)\n",
    "ax2.hist(unif_generator(10,60,1000), bins=10)"
   ]
  },
  {
   "cell_type": "markdown",
   "metadata": {},
   "source": [
    "## Normal Distribution\n",
    "\n",
    "1. In the same way in the Uniform Distribution challenge, write a function that generates normally distributed random numbers.\n",
    "1. Generate 1,000 normally distributed numbers with the average of 10 and standard deviation of 1\n",
    "1. Generate 1,000 normally distributed numbers with the average of 10 and standard deviation of 50\n",
    "2. Plot the distributions of the data generated.\n",
    "\n",
    "Expected output:\n",
    "\n",
    "![normal distribution](nd.png)"
   ]
  },
  {
   "cell_type": "code",
   "execution_count": 24,
   "metadata": {},
   "outputs": [
    {
     "data": {
      "text/plain": [
       "array([ 0.87281528,  0.13304246, -0.90834373, -0.6079551 ,  0.24524381,\n",
       "        0.01344002, -0.51608395,  0.10007133,  0.3764934 ,  0.402682  ])"
      ]
     },
     "execution_count": 24,
     "metadata": {},
     "output_type": "execute_result"
    }
   ],
   "source": [
    "from scipy.stats import norm\n",
    "norm.rvs(size=10)"
   ]
  },
  {
   "cell_type": "code",
   "execution_count": 27,
   "metadata": {},
   "outputs": [
    {
     "data": {
      "text/plain": [
       "1.0"
      ]
     },
     "execution_count": 27,
     "metadata": {},
     "output_type": "execute_result"
    }
   ],
   "source": [
    "norm.std()"
   ]
  },
  {
   "cell_type": "code",
   "execution_count": 28,
   "metadata": {},
   "outputs": [],
   "source": [
    "def normal_generator(average, std, count):\n",
    "    return norm.rvs(size=count)*std+average"
   ]
  },
  {
   "cell_type": "code",
   "execution_count": 29,
   "metadata": {},
   "outputs": [
    {
     "data": {
      "text/plain": [
       "array([ 9.84935723,  9.0051263 ,  9.60110722, 10.963785  , 11.05489039,\n",
       "        8.19208607,  8.88206014, 11.38207273, 10.600938  , 10.62408701,\n",
       "        9.42602708,  8.78266469, 11.13493862,  9.62916175,  8.21156512,\n",
       "        9.96257717,  8.89066935, 11.02456284,  8.74490685, 11.65499868,\n",
       "        8.32824018, 10.34584835,  9.11556134,  9.39114951,  9.84814021,\n",
       "        9.41318518,  7.96010798,  8.84458158,  9.79909461, 10.05344479,\n",
       "        9.21396439,  9.14968833, 11.14700314, 10.52348899, 10.56545409,\n",
       "        8.76032951,  8.63268197, 11.0079377 , 11.33161483, 10.15748427,\n",
       "       10.89307981,  9.24608022,  9.07907607, 10.199649  ,  9.94906033,\n",
       "        9.79306984, 11.43979737, 11.02532621,  8.31090938, 11.54459026,\n",
       "        8.34861312, 10.52376672, 10.99307812,  9.62085871, 10.23373265,\n",
       "       10.29802309,  8.91560498, 10.17559879,  9.26437898, 10.8140352 ,\n",
       "        7.99792656,  9.6129199 , 11.03469632,  9.46450829, 10.52450222,\n",
       "       10.26285337,  9.25175916, 11.4234053 ,  9.1504901 , 10.56361056,\n",
       "        9.55172071,  9.07734807,  9.36969735, 10.41100454, 10.51414196,\n",
       "        8.74040271,  8.80592859,  9.90920911, 10.54288936, 10.37686852,\n",
       "        9.02971232,  9.69524785, 10.27410678,  9.88168948, 10.61708283,\n",
       "       10.93711591,  8.62462624, 11.34821964,  9.07400128, 10.74437418,\n",
       "       10.40175899,  7.71149974, 11.19554418,  9.08254744, 10.76282873,\n",
       "        9.71302089, 10.09883012,  9.98515806,  9.81925087,  9.83266742,\n",
       "       10.0816445 ,  9.9589998 , 11.72599003, 11.44328761,  8.66169929,\n",
       "       11.22066625, 10.21301861, 10.26916919, 10.15315845, 11.18637804,\n",
       "       10.87760609, 11.64184413,  9.94052817,  9.29780104,  8.72348706,\n",
       "       12.47660142,  9.6666496 , 11.0539086 ,  8.38035671, 10.37339979,\n",
       "        8.78571951, 10.49539942, 11.35549836,  9.95492524, 10.66759601,\n",
       "       10.67468605,  9.01398009,  8.32835337,  9.69894954,  9.7034619 ,\n",
       "        9.49854468, 13.01513604, 10.4427969 ,  9.13234995,  9.94827623,\n",
       "       11.27721876, 10.80765934, 10.24266297,  9.56195248, 10.53987164,\n",
       "        9.68168521, 11.38787916,  9.58522078, 10.12994607,  9.21211028,\n",
       "       11.34728441,  9.60147132,  9.66037233, 10.60102615,  9.06154385,\n",
       "       10.8760465 ,  9.39279982, 10.14234461, 13.18518894, 10.16444482,\n",
       "        9.5596881 , 10.30975626, 11.03057953, 10.17064644, 11.28605965,\n",
       "       10.09874685, 10.73815503,  8.65219364, 10.56683287,  9.51774692,\n",
       "        9.71099047,  8.7096582 , 10.10204586,  9.340121  , 11.74948111,\n",
       "        9.63988739,  8.78832487, 11.14335643, 10.9298797 , 10.40379811,\n",
       "       12.1628268 , 10.42648679, 10.92263273,  8.28675933,  8.71376375,\n",
       "        9.7414436 ,  9.30226221, 11.63683364,  8.81074751,  9.31007822,\n",
       "        9.70050065,  9.43095615, 10.39518013, 10.63507654, 10.59520641,\n",
       "       10.37759128, 10.34814414, 10.80397401,  9.43159603, 11.9678717 ,\n",
       "        9.90886861, 10.11870077, 10.07105942, 10.16544717,  9.39053617,\n",
       "        9.72787998,  9.02253214, 10.22580769, 10.97098654, 10.88038455,\n",
       "        9.47764161, 10.93371138,  9.91439642, 11.82465272, 12.24581714,\n",
       "        9.91206211, 10.34890476,  8.32243729,  8.6640425 ,  9.9739782 ,\n",
       "       12.24258228,  8.82827087,  9.95694436, 10.58223618,  9.91749763,\n",
       "        8.33977903,  9.35382865,  9.55223336, 11.53903775, 10.00605617,\n",
       "       10.73395582, 10.50099822, 10.38437876,  9.93800429, 12.61865522,\n",
       "        9.78843811,  8.26352653, 11.85435955, 10.77176278, 10.48588415,\n",
       "       10.70242123,  9.36297785,  8.28950131, 11.65797967,  9.35329025,\n",
       "        8.66174651, 10.14392286,  9.95827116,  8.68407175,  9.9172433 ,\n",
       "        8.70235266,  9.93397832,  9.9883354 , 12.43923048, 11.56461217,\n",
       "        9.69444201,  9.86189473, 10.35040789, 10.60681702,  9.6466389 ,\n",
       "        9.52734315,  9.14062981,  9.99179153,  9.14774808,  8.88429073,\n",
       "       10.50558233, 10.02986078,  9.88238082,  8.49980828,  8.42469401,\n",
       "       10.38953259, 10.25091237, 10.73032381, 11.07902819, 11.38261579,\n",
       "       10.40668921, 10.7738449 , 10.30622081,  9.21960911, 10.07357108,\n",
       "       10.9569984 ,  9.11939687,  9.0411659 ,  9.6472628 , 10.73559568,\n",
       "       11.2470834 , 10.6899589 ,  8.89195566, 12.12377841, 10.67370491,\n",
       "       10.17998374, 10.12024938, 11.51506259,  8.7354026 ,  9.82241411,\n",
       "        8.78030699,  9.73544476, 11.20737304,  8.93252423, 10.51901864,\n",
       "       11.8936324 ,  9.32633146,  9.71133996, 10.4977739 ,  8.33243028,\n",
       "        9.70727641, 10.60618807,  9.59535936,  9.86211096, 11.33799015,\n",
       "        8.65729371,  9.53430254,  9.26928957,  9.68760084, 10.42548745,\n",
       "       10.41810387, 10.11310386, 11.03118533, 10.19394213, 10.49421665,\n",
       "        9.83003487, 10.77971041,  9.14259864,  6.8614533 , 10.99311709,\n",
       "       11.51403519,  8.53997355,  9.75315614, 10.43520966, 11.6132032 ,\n",
       "        9.28623929,  8.75679556, 10.90880645,  8.92868069,  8.18455905,\n",
       "        8.60975269,  6.01816313,  9.02748587, 11.20479552, 11.18007919,\n",
       "       10.20643559, 10.68719579, 11.56150166,  8.21197088,  9.83308619,\n",
       "       10.13100555, 10.25088453, 10.35258762, 10.6018246 ,  9.34487211,\n",
       "       12.12629573, 11.88304322,  9.0586806 , 10.79192972, 11.3638439 ,\n",
       "        9.14990626, 10.43251569, 11.81672748, 10.64008698,  9.59788077,\n",
       "       10.20583512,  8.59367502,  9.9845944 ,  9.78629016, 11.26087839,\n",
       "       10.59366774,  8.71291097,  8.45905875,  9.39774679,  8.6105266 ,\n",
       "       10.44239744, 10.48241758,  9.50871867, 10.5431461 , 10.3503092 ,\n",
       "       12.29269422, 10.78206914, 10.30151473,  9.43111928,  9.88692356,\n",
       "       10.94187849,  9.13016685,  8.93486641,  9.97526693,  9.49512598,\n",
       "        9.37416075,  8.91700933,  8.22320734, 11.27034148,  8.92388302,\n",
       "        9.43101269, 10.12566139,  9.24735526, 12.37303609, 11.32907462,\n",
       "       10.26891826,  9.78386233,  9.38846091, 10.18017532,  8.36189554,\n",
       "        8.37109677,  8.99679028,  8.65755922,  8.69706613, 10.13850305,\n",
       "        9.6659839 , 10.69022091, 10.50432175, 10.04247624,  9.02259698,\n",
       "       10.32572025, 11.48751195,  9.52270097, 11.5881788 ,  8.90535773,\n",
       "        9.77462565,  9.67319543,  9.27395498, 11.80391269,  9.41760901,\n",
       "        9.46241558,  9.91887146,  9.73272109,  8.4527581 , 10.5112689 ,\n",
       "       10.01131795, 10.0984179 ,  9.85525112, 10.12667562,  8.18931656,\n",
       "       13.10276716,  9.38874792,  9.5799743 , 10.47557353, 10.25390872,\n",
       "        9.14433513,  9.37702305,  9.95025663,  9.60990889,  9.11700524,\n",
       "       11.3457976 ,  9.81896067, 11.82855456, 11.16584825, 10.92001684,\n",
       "        9.9946777 , 10.01087664,  9.0341948 , 10.21702153, 10.96685179,\n",
       "       10.07147942,  8.47965648, 10.83680367, 11.27921781,  9.70459139,\n",
       "       10.55749638, 10.4219121 ,  9.05264884, 10.30819996, 11.31966891,\n",
       "        8.94100851,  9.39900541, 10.05068269, 10.84437666,  9.52328813,\n",
       "        9.72152385,  9.12685752, 10.46950599,  9.43466887,  8.26981973,\n",
       "        9.92443748,  7.79610783, 10.62040721, 10.55644039,  9.59794172,\n",
       "       10.3541725 ,  9.3397748 ,  9.58886423,  7.61532596, 10.97809925,\n",
       "        9.18289617, 10.58696719, 10.41461618,  9.5153323 , 11.53398828,\n",
       "        9.39125278,  9.18050442, 10.29565441,  9.64339742, 10.93903798,\n",
       "        9.50335559,  9.87066683, 11.56291094,  9.92515714, 10.97264604,\n",
       "        8.6113854 ,  7.83441433,  8.1994109 , 10.67703724, 10.32608957,\n",
       "       10.95089091,  9.53326934, 10.19654268, 11.53233727, 11.10460097,\n",
       "        9.29107509,  9.55723823,  8.35621338,  9.03612257, 10.09074997,\n",
       "       10.18332317,  9.2078298 ,  9.67001225,  9.20112589, 10.50369449,\n",
       "       11.9943056 , 10.90103614,  9.17410585, 12.42657165, 10.21392611,\n",
       "       10.96940123, 10.14238544,  8.21634024, 10.16631396,  8.44836524,\n",
       "       10.73938954, 10.54450796, 10.51688455, 10.75986879,  9.57280787,\n",
       "       10.90073791,  8.94646361,  9.54852287, 11.08607351,  6.27382087,\n",
       "        9.70113465, 11.036698  , 10.16621822,  9.92173203,  9.99856163,\n",
       "       10.76558734,  8.90203368, 10.77794206,  9.46048806,  7.20135588,\n",
       "        9.41739309,  8.89394197,  9.52817741,  8.9413868 ,  8.57053608,\n",
       "       12.67599974, 11.62556202, 11.34838902, 10.30408296, 11.40597796,\n",
       "        9.32425528, 10.20513469, 11.46580415,  9.86620419, 11.19741025,\n",
       "        8.24312748, 11.53240568,  9.47781213,  8.79380143, 10.95694958,\n",
       "        8.9445954 ,  9.36478827,  9.38708281, 10.31089606,  9.59479856,\n",
       "        8.26680525,  9.91568901,  9.09884322,  9.0058884 ,  9.30050426,\n",
       "       10.89659464, 10.40732651,  9.89909908, 11.67073958,  8.17304939,\n",
       "        9.07245912,  8.78900587,  9.30707769,  8.6697893 ,  9.81532545,\n",
       "        8.84419847, 10.96227329, 10.22148531,  9.44649019,  9.65932643,\n",
       "       10.31038632, 11.46299062,  8.48023007,  9.37135291,  8.63838925,\n",
       "        9.81475413, 10.6412696 ,  7.15397987, 10.13620101,  8.41876081,\n",
       "        9.84237413,  9.79648403, 12.28295546, 11.36971971, 10.04378052,\n",
       "       10.11342584,  9.16969006,  9.15533336,  8.68408509, 10.58040023,\n",
       "        9.80600259, 10.39887565, 11.58076939, 10.14225077,  9.12323942,\n",
       "       11.11865795,  9.30167249,  9.39486356, 10.13968813, 11.89557341,\n",
       "        9.22970637,  9.04912894, 10.44338938,  9.92478308,  9.99487047,\n",
       "       11.71270584, 11.00097768, 12.48264671,  9.32157965,  8.94991177,\n",
       "        9.41349495,  9.61738806, 11.94274507,  9.15589485,  9.0775499 ,\n",
       "       10.15069607,  9.41664755,  9.86836707, 10.08084059,  9.26938753,\n",
       "        9.08114915,  9.02473602, 10.94215426, 10.25724219,  7.98320783,\n",
       "        8.67382359, 10.33188163,  9.18670684,  8.42598616,  8.99029772,\n",
       "       11.21636298, 10.67829027, 11.3291053 ,  9.78209001, 11.28677293,\n",
       "        9.55664261, 10.99987475,  9.04305158,  9.6917863 ,  9.068017  ,\n",
       "       10.34418553,  9.07312643,  9.61950549,  9.75388169,  8.4488393 ,\n",
       "       10.17167257,  9.46115386, 10.70698417,  9.47441137, 10.22505235,\n",
       "       11.19719419,  8.87742042,  8.94383744,  9.90247431,  9.10552604,\n",
       "        9.51810477, 11.27425166,  9.54608023, 11.92067231,  9.24420335,\n",
       "       10.95009374,  9.16008245,  9.12406031,  8.18486178,  9.49775043,\n",
       "       10.88901313, 12.36860606,  8.21420554, 10.45232138, 11.32960794,\n",
       "        9.33890711, 10.74197052,  8.85004058, 10.61572954,  9.62334442,\n",
       "       10.41451326,  9.88787052, 10.6406264 , 13.04808031,  9.89266581,\n",
       "       11.07726482,  9.91181894,  9.76311227,  9.40367621,  7.58457829,\n",
       "        9.18257518, 11.0544685 ,  9.99740713,  8.68396349,  8.9055165 ,\n",
       "        7.8616626 ,  8.50187766,  9.78687961, 10.79799307, 10.13788062,\n",
       "       10.24147157, 11.35889242, 10.58253156,  8.99766123, 10.07680567,\n",
       "       11.59438628, 10.44664541,  9.75583182, 11.35006612, 11.28756801,\n",
       "       10.59139934, 10.73435811,  9.3330817 , 11.77092351,  9.96580671,\n",
       "       10.41409055, 10.99283269,  9.46783986, 10.27688221, 10.10198662,\n",
       "       10.06113945,  9.55526449,  9.48936705, 10.91406892, 11.60846445,\n",
       "       10.5719844 , 10.56229547,  8.90954618,  9.64650109, 10.77007179,\n",
       "       10.72888909,  9.32330124,  8.50846949, 10.52342103, 10.16389458,\n",
       "        9.83223015,  9.43916118,  8.34486237,  9.08204517,  9.07283135,\n",
       "       10.1686643 , 11.3112226 ,  9.71339961,  9.70467812, 10.85117794,\n",
       "        9.11611548,  9.96346653,  8.46800656,  9.64334887, 10.99432446,\n",
       "       12.00265355,  9.33490231,  9.46853486, 10.58358941, 11.20745124,\n",
       "       10.79573813, 11.44184118,  9.94860732,  8.42771657, 10.75616997,\n",
       "        9.6273585 , 10.99874222,  9.39560104,  9.46162816,  9.84845066,\n",
       "       12.15004538, 12.38264817, 10.7654749 , 10.73069683, 10.15993146,\n",
       "       11.7777571 , 10.62102204, 10.35902657, 10.35350241, 11.43246634,\n",
       "        9.85617778,  9.03195344,  9.30831297, 11.08582553,  7.86480642,\n",
       "        9.33475827, 10.3642516 ,  9.05865452,  9.86218995, 11.20586698,\n",
       "        9.36744072, 10.106488  ,  9.79318675, 10.77260309, 10.48171903,\n",
       "       10.27632091, 10.26764576, 10.98785575, 10.06332982, 10.54911811,\n",
       "        9.83360878, 10.28160311, 11.63340879, 11.21272197, 11.02456437,\n",
       "       10.05805933,  9.89203428,  9.53588629, 11.1501845 ,  9.05515087,\n",
       "        8.83721049, 10.10926992, 11.62043773,  8.95521238,  9.94420676,\n",
       "       10.5316041 ,  9.81108828,  9.45605699,  8.24835854,  9.92074671,\n",
       "       11.52708261, 10.33188844,  9.09583253,  9.7297484 ,  8.04135459,\n",
       "       10.29666932, 10.88675403, 11.25125005, 11.08659791,  9.49524576,\n",
       "        9.24277411,  9.31199247,  8.90879825, 10.48935459,  9.40160933,\n",
       "        8.55117009, 12.18845424, 10.87263934, 10.03562262,  8.88708122,\n",
       "       10.75170497, 11.32033317,  9.64169168,  8.42982375, 11.38808838,\n",
       "        9.08634193, 10.8785476 , 10.42318782, 10.34405788,  8.74378249,\n",
       "        9.43763614, 11.12744404,  9.34809355, 10.25427553, 10.59962288,\n",
       "        8.57293415,  8.53716931, 11.64316332, 10.2896045 , 11.05339699,\n",
       "       10.40806994, 10.0314677 ,  9.1030824 ,  9.93020891,  9.01161118,\n",
       "        9.22429362,  9.54266229,  8.92223939, 10.68255618,  9.88684235,\n",
       "        9.62274759,  9.17730076,  9.7626144 ,  9.40675154, 10.1892102 ,\n",
       "       10.32792052, 10.45506743,  9.99305625,  9.15204251,  9.09072261,\n",
       "       11.96196255,  8.2230856 , 11.29212468, 11.10945105,  9.75972738,\n",
       "       10.11941586, 11.4736025 ,  9.32403438, 10.24302287,  8.45071857,\n",
       "        8.92600104,  9.95334053,  8.4971895 ,  8.7040587 ,  9.3777599 ,\n",
       "        9.35149069,  9.205048  ,  9.69335568,  8.90267735, 10.23036997,\n",
       "       11.54170908,  9.57744311,  9.67934646, 11.03067445,  9.88956542,\n",
       "        8.87614757,  8.29325269, 10.18160476, 10.37142222, 11.12640018,\n",
       "       10.96533681,  8.67185337, 10.20865452, 10.22213652,  8.53149195,\n",
       "       10.28642624,  9.08693421,  9.10573993, 11.00085217,  9.85087973,\n",
       "       10.1087359 , 10.16667693,  9.34873474, 12.28219884, 10.50920243,\n",
       "        9.85815132, 10.83979669,  9.99735199, 10.31663918,  9.04723042,\n",
       "        9.06377558,  9.09174097,  8.705114  , 10.39776402, 10.35051052,\n",
       "       11.79891846,  9.81690934, 11.51787135,  8.83974433,  9.19863422,\n",
       "        9.76857171, 10.55830576,  9.61303833,  9.66387885,  8.90199089,\n",
       "       10.59352568,  9.64165398, 10.50038337,  8.99782041, 10.60294599,\n",
       "       10.64753132,  8.38678485, 11.10814114,  9.34992225, 11.00562259,\n",
       "        9.19404967, 10.35336782,  9.95538579, 11.04060326, 11.24067494,\n",
       "       10.14707631,  7.94771428, 11.61438166, 10.40299103, 10.03774874,\n",
       "       10.26856936, 11.75987263, 10.25200974, 10.39895983,  9.93014605,\n",
       "       10.98018645,  8.26119315, 10.77512393,  8.51597799,  9.24028793,\n",
       "       10.4454108 ,  9.70329633,  9.1569779 ,  9.8667722 , 11.14444871,\n",
       "       10.21042762,  9.43561597,  7.84412911, 11.30004219, 10.63781885,\n",
       "        9.63770106,  9.59454006, 10.00478296, 10.07041088,  9.30950271,\n",
       "        9.61564689, 10.74203397, 12.43706685, 10.51620879,  8.66713365])"
      ]
     },
     "execution_count": 29,
     "metadata": {},
     "output_type": "execute_result"
    }
   ],
   "source": [
    "normal_generator(10, 1, 1000)"
   ]
  },
  {
   "cell_type": "code",
   "execution_count": 40,
   "metadata": {},
   "outputs": [
    {
     "data": {
      "text/plain": [
       "array([-3.00362052e+01,  1.30343597e+02,  4.07864882e+01, -4.35557662e+00,\n",
       "       -9.00863470e+00,  7.86307863e+01, -3.33055768e+01,  2.39553323e+00,\n",
       "        4.67533885e+01, -6.52111752e+01,  4.13878043e+00, -1.33168462e+01,\n",
       "        2.03067167e+01,  8.47630010e+01, -6.96168866e+01, -4.44428874e+01,\n",
       "       -3.67009823e+01, -1.71243263e+00, -6.67870561e+01, -7.27360846e+01,\n",
       "        1.29888392e+01,  4.05481986e+01,  5.82526419e+01, -6.43879857e+00,\n",
       "        2.97058489e+01, -6.75471029e+01,  8.96876578e+01,  3.30117883e+01,\n",
       "       -2.18801341e+00, -1.08489447e+02, -4.64509456e+01, -6.09076047e+00,\n",
       "        5.65529101e-01,  4.67354672e+01, -2.35656512e+01,  4.44967492e+01,\n",
       "       -6.09836573e+01,  2.99026434e+01, -1.34122015e+01, -1.29071810e+02,\n",
       "       -6.89081969e+01,  8.47582066e+01,  1.33858282e+01, -3.96620303e+01,\n",
       "       -2.37092785e+01, -2.86656366e+01, -1.25739157e+01,  4.21993915e+01,\n",
       "       -5.55099715e+01,  8.01472206e-01, -2.04863725e+01, -5.98631983e+01,\n",
       "       -2.92983269e+01,  9.47672042e+01,  1.57570298e-01,  3.75555787e+01,\n",
       "        4.83834746e+01, -3.78908448e+01,  5.12236564e+01,  5.30319811e+01,\n",
       "        4.43002165e+01,  5.47675068e+01,  1.77168876e+01,  6.63757398e+01,\n",
       "       -4.13017205e+01,  1.05779351e+00,  1.32916930e+01,  3.77462792e+01,\n",
       "       -3.99398198e+01, -9.69249659e+01,  9.88509438e+01,  7.88096322e+01,\n",
       "        2.76301953e+01, -2.39707265e-01, -4.37109591e+01,  5.83824287e+00,\n",
       "        6.19830395e+00, -6.39846885e+01, -4.37687138e+01,  5.56117098e+01,\n",
       "       -9.83890671e+01,  1.10539936e+02,  8.05520493e+01,  1.37093703e+01,\n",
       "        8.94232083e+01,  9.75956163e+01, -3.09818318e+01,  8.02959272e+00,\n",
       "        5.77700468e+01, -1.13378051e+01, -2.15240286e+01,  1.86599779e+00,\n",
       "       -7.12023503e+01, -3.41414836e+00,  3.09518626e+00,  5.24569447e+01,\n",
       "       -3.79996804e+01, -9.91761738e+01, -6.94261612e+01, -2.76326765e+00,\n",
       "        1.61038977e+01,  2.84972174e+01,  1.23707406e+01, -1.25844234e+01,\n",
       "        3.75615102e+01, -2.40613720e+01,  8.35444675e+01,  7.26800016e+01,\n",
       "       -3.34001654e+01,  1.07202446e+01, -5.48529719e+01,  7.41297124e+00,\n",
       "        2.34695994e+01,  8.69511489e+00,  1.72342465e+01,  9.45261642e+01,\n",
       "       -9.75704745e+00,  6.34391782e+01, -2.46610951e+01,  4.01270670e+01,\n",
       "        2.61330392e+01,  4.39354583e+01,  4.48585810e+00,  3.55732303e+01,\n",
       "        4.50326733e+01, -2.26101316e+01, -8.31245935e+00, -1.49528294e+01,\n",
       "       -4.77488437e+01, -2.70322731e+01, -7.96368644e+01,  4.86729606e+01,\n",
       "       -3.62142159e+01, -3.37173127e+00,  9.75434162e+00,  5.49754632e+01,\n",
       "       -5.79647806e+00, -1.01444022e+01,  6.70360611e+01, -2.43883263e+01,\n",
       "        3.00824001e+01, -3.76379580e+01, -2.56922021e+01,  7.83701432e+01,\n",
       "        8.35095046e+00, -1.00694947e+00, -4.65294429e+01, -6.83837192e+00,\n",
       "        5.93754070e+01,  2.79328698e+01,  2.21159399e-01,  6.08832986e+01,\n",
       "        6.83029081e+00,  4.78555413e+01,  8.87659328e+01,  8.92794793e+01,\n",
       "       -2.66906255e+01,  4.08486503e+01, -3.32086942e+01,  2.50291658e+01,\n",
       "       -2.78000973e+01, -6.80865349e+01,  7.65180202e+01,  1.09489368e+01,\n",
       "        2.55388597e+01, -5.53785953e+00,  4.16012185e+01, -1.94125420e+01,\n",
       "        8.71300721e+01,  6.60598532e+01,  5.18224141e+01,  4.74521339e+01,\n",
       "        2.81775016e+01, -2.15231728e+01,  1.49849209e+01,  8.86040228e+00,\n",
       "        4.37173729e+00, -4.68116290e+01,  3.53535232e+01,  8.44976872e+01,\n",
       "        2.43287515e+01,  6.75570896e+00,  5.19299505e+01,  9.41953706e+01,\n",
       "       -6.38484635e+01,  1.89482170e+01,  2.54905145e+01,  3.28492528e+00,\n",
       "        1.18316551e+01,  9.51279119e+00, -9.25164914e+01,  5.14679099e+01,\n",
       "       -6.94279725e+01,  1.69347603e+01, -4.36803201e+01,  1.20057633e+01,\n",
       "        6.67871960e+01,  4.61283333e+01, -6.78310529e+01,  5.22764293e+01,\n",
       "        2.64465463e+01, -7.19438694e+01,  1.01584855e+02, -7.67790480e+01,\n",
       "        3.13810520e+01,  9.54379578e+01, -3.01973890e+01, -4.52506820e+00,\n",
       "       -1.23956928e+02,  3.30097210e+01,  5.52666591e+01, -6.52285070e+01,\n",
       "       -5.47693183e+00,  2.09578226e+01, -4.03030699e+01,  7.40748679e+01,\n",
       "        5.81119870e+01,  1.11088741e+02, -6.07614571e+01, -8.18912926e+00,\n",
       "       -5.30860871e+01, -7.74798384e+01,  1.08103463e+01,  9.82913873e+00,\n",
       "       -6.11627704e+01, -1.40451583e+01, -5.41796991e+01, -4.46803434e+01,\n",
       "        1.90776911e+01, -3.81626812e+01,  2.50866984e+01,  1.77246062e+01,\n",
       "       -3.37465859e+01,  3.60242100e+01,  6.44646937e+01,  6.49227470e+00,\n",
       "       -1.98893016e+01, -6.08475551e+01,  8.59870878e+01, -2.97353654e+01,\n",
       "        1.88759514e+01,  6.25562943e+01, -4.32217369e+01,  8.46821446e+00,\n",
       "        3.73636103e+01, -2.64085417e+01, -2.76160101e+01,  1.40916713e+01,\n",
       "       -1.42890862e+02,  7.69326668e+01,  2.75068210e+01,  6.76991464e+01,\n",
       "        1.11277755e+01,  5.95314785e+01,  2.01661085e+01, -6.92583151e+01,\n",
       "       -5.79590012e+00, -4.06793598e+01,  2.20749414e+01, -1.90128407e+01,\n",
       "        3.77242739e+01,  2.69258551e+01,  2.39490359e+01, -5.56731449e+00,\n",
       "        1.55105755e+01, -5.27903353e+01, -1.59737459e+01, -4.13515152e+01,\n",
       "       -2.90971554e+01, -5.19692990e+01,  9.26387442e+01,  2.62650438e+01,\n",
       "        7.11454083e+01,  2.27972775e+01,  2.25118640e+01, -2.93919876e+01,\n",
       "        1.00125579e+02,  2.76779785e+01,  5.76824027e+01,  9.06392504e+01,\n",
       "        1.44692200e+01, -1.85943055e+01,  2.68189252e+01, -3.29923100e+01,\n",
       "       -5.49352953e+01, -5.88348558e+01, -7.12729139e+01, -2.02442941e+00,\n",
       "       -1.76808682e+01, -1.28203921e+01,  8.54978509e+01,  8.79597477e+01,\n",
       "       -1.36123968e+01, -2.15905444e+01, -4.15146235e+01,  4.15822489e+01,\n",
       "       -4.78169614e+01, -1.44230347e+01,  8.08986398e+01,  5.09784069e+01,\n",
       "        6.04459837e+01,  4.95447000e+01, -4.48192273e+00,  6.67124624e+01,\n",
       "       -8.82174027e+01, -2.88391489e+01,  4.70018036e+00,  7.17478768e+00,\n",
       "        1.80816534e+01, -2.94361552e+01,  6.41170635e+01,  1.74193798e+01,\n",
       "        1.49825022e+01,  1.11640629e+02,  5.46757296e+00,  3.41731535e+01,\n",
       "        3.92606017e+01,  4.31912932e+01,  2.43379744e+00, -5.11883602e+01,\n",
       "        3.50277945e+00,  1.29542398e+00,  3.54986683e+01,  3.38488496e+01,\n",
       "       -5.67607248e+00,  9.04824268e+01, -5.39133838e+01,  7.65758356e+01,\n",
       "       -2.35650214e+01,  4.12228745e+01,  1.16411096e+01, -1.85724634e+01,\n",
       "        4.51304566e+01,  8.44480652e+00,  1.96703881e+01,  2.26515602e+01,\n",
       "        1.97575909e+01, -5.78157017e+01, -2.01347362e+01,  2.92249177e+01,\n",
       "        8.80858154e+00, -1.28826464e+01,  7.47461793e+01,  1.63761751e+01,\n",
       "       -1.15214511e+02,  5.69544620e+01, -1.47682160e+01,  1.08005612e+02,\n",
       "        1.69077590e+01,  5.21094677e+01,  2.22426049e+01,  7.89243865e+01,\n",
       "        3.30999838e+01,  2.15694859e+01,  2.79388731e+01,  1.11727504e+02,\n",
       "        3.52632856e+01, -1.02389236e+02, -1.81996490e+01, -9.57739010e+00,\n",
       "        1.09409620e+02,  1.08384700e+02,  4.30525031e+01, -3.82749144e+01,\n",
       "       -6.19548682e+00,  3.70854517e+01, -3.24740748e+01,  3.61016175e+01,\n",
       "       -7.11779533e+01,  1.56539716e+01,  1.07831289e+02,  3.11405644e+01,\n",
       "        5.91710539e+01,  1.48045430e+01,  2.02751877e+01,  5.20166625e+01,\n",
       "       -6.96200405e+01,  1.37256120e+02,  5.59384883e+01,  1.33257898e+02,\n",
       "       -1.69484249e+01,  6.60933580e+01,  7.32815611e+00,  2.19787089e+01,\n",
       "        5.06704994e+01,  2.51145520e+01,  1.65865781e+01, -6.21793134e+00,\n",
       "       -1.14487458e+01,  8.73676211e+01, -2.63319160e+01,  3.12838520e+00,\n",
       "        1.14952047e+02, -4.89817360e+00,  6.11456323e+01,  3.53477733e+01,\n",
       "       -3.63649446e+01, -7.65669971e+01, -3.76725706e+01,  3.90949132e+01,\n",
       "        9.87183312e+01, -2.40966579e+01,  1.11792640e+02, -8.16886321e+01,\n",
       "        1.72203072e+01,  1.82038004e+01, -3.70309679e+01, -1.16424435e+01,\n",
       "        2.11272326e+01, -6.11895722e+01,  1.33373994e+02,  1.03313437e+02,\n",
       "       -2.38916656e+01,  2.79484042e+01, -2.39703886e+01,  6.42457199e+01,\n",
       "       -4.16236043e+01, -3.60307403e+01, -3.11288344e+01,  1.98312771e+01,\n",
       "       -3.04718654e+01, -2.51703083e+00, -4.37940640e+01, -1.19814207e+01,\n",
       "        3.71661166e+01,  4.04876239e+01,  4.92974150e+01,  3.20276208e+01,\n",
       "        1.51388878e+01,  2.56357966e+01,  7.40260235e+01, -3.25400854e+00,\n",
       "        1.16754658e+01,  3.91162370e+01,  1.47101887e+01,  7.14184935e+01,\n",
       "       -7.41745559e+01,  5.10186074e+01, -5.13938816e+01,  3.66945700e+01,\n",
       "        1.73950002e+01,  1.26087987e+01, -2.18895590e+01,  1.09790925e+02,\n",
       "       -3.44942956e+01, -5.32528881e+01,  1.50283989e+01, -5.82624045e+01,\n",
       "        1.33417267e+01,  7.29814774e+01, -1.79986439e+00,  5.39111701e+01,\n",
       "        6.08365130e+00, -2.91913558e+01,  8.74406899e+01,  8.18722869e-02,\n",
       "        4.16657687e+01, -4.12930284e+01,  5.36346152e+01, -2.39619070e+01,\n",
       "        8.31618788e+00,  3.89703170e+01, -1.85263144e+01,  4.58291519e+01,\n",
       "        8.10158846e+01, -2.73983464e+01, -3.69584208e+01,  5.11438895e+01,\n",
       "        5.75201546e+01, -4.10384126e-01,  7.97194275e+00,  7.07997071e+01,\n",
       "       -2.24285157e+01,  2.45157573e+01,  6.76821522e+01, -2.60090777e+00,\n",
       "        4.59883314e+01,  4.94516203e+01,  2.25365604e+01,  4.57352914e+01,\n",
       "       -4.43404622e+00,  2.52050807e+01,  4.28684042e+01, -3.83061388e+01,\n",
       "        2.96534346e+01, -2.74199273e+01,  2.63182982e+01, -1.28642152e+02,\n",
       "        5.21485867e+01,  1.06167773e+01,  7.04079562e+01,  3.54264473e+01,\n",
       "       -3.14581485e+01, -3.47523130e+01,  3.71563831e+01,  3.42512881e+01,\n",
       "        5.14644611e+01, -8.63644403e+01, -6.76070295e+01,  7.13181118e+01,\n",
       "       -1.33526189e+01,  5.66705255e+01, -4.55289770e+01, -1.89772076e+01,\n",
       "        5.17911809e+01,  6.73407278e+01,  9.08834097e+01, -6.27679187e+01,\n",
       "        3.42590237e+01,  2.16716163e+01, -9.25225491e+00,  7.80296852e+00,\n",
       "       -1.98175080e+01, -4.15648427e+01,  1.42917114e+01, -4.41690834e-01,\n",
       "       -5.30839841e+01, -1.26736038e+01, -5.53924602e+01, -2.76484845e+01,\n",
       "       -6.58353487e+01, -7.84028630e+01, -2.36121868e+01, -6.46341026e+01,\n",
       "        3.47265246e+01,  2.33863044e+01, -7.34364703e+01, -4.41664410e+01,\n",
       "       -8.44387640e+01, -8.32549152e+00,  2.61205296e+01,  8.28810680e+01,\n",
       "        1.86659584e+01, -1.42242588e+01,  2.26322722e+01, -3.51632756e+01,\n",
       "        1.40327516e+01,  4.86332739e+01, -5.97446105e+01,  1.20242008e+01,\n",
       "       -8.43492878e+00,  9.15398555e+01, -3.06730337e+01, -4.02926917e+01,\n",
       "        8.76600542e+01,  7.17116484e+01,  6.47870036e+01,  7.83328330e+01,\n",
       "        3.90459126e+01,  9.09565923e+01,  6.78846030e+01,  6.57753505e+01,\n",
       "        4.71313615e+01, -2.14350749e+01, -1.31505642e+01, -7.33800814e+01,\n",
       "        1.23971064e+01,  4.58479845e+01, -8.13843525e+01,  8.71412343e+00,\n",
       "        7.27145702e+01,  7.68206022e+00,  7.75953888e-01,  6.99921406e+01,\n",
       "        5.66639128e+01, -5.53281439e+00,  3.40328563e+01, -4.36175457e+01,\n",
       "       -3.46589384e+01,  5.71424225e+01,  5.32649191e+01,  4.14297360e+01,\n",
       "        1.28564887e+01, -4.02815073e+01,  5.69764225e+01, -1.75646308e+01,\n",
       "        4.09813939e+01, -5.96022069e+01,  5.26524640e+01,  1.74098482e+01,\n",
       "        6.13548612e+01,  9.07513050e+01,  2.70497537e+01,  6.91029070e+01,\n",
       "       -1.02525602e+01,  1.01475855e+02,  3.73686799e+01, -3.17186145e+01,\n",
       "       -3.94774745e+01, -6.02715064e+01, -8.75327558e+01, -3.04307268e+01,\n",
       "        6.17467038e+00, -8.48799076e+01,  9.81337146e+01,  7.59023888e+01,\n",
       "        5.43915611e+01,  2.15434565e+01, -7.14952798e+01,  1.66797366e-01,\n",
       "        2.02439170e+01,  5.00765143e+01,  3.33528349e+00,  2.33039338e+01,\n",
       "       -5.26196455e+01, -4.21251871e+01,  5.00138813e+01, -6.71850534e+01,\n",
       "        2.10327150e+01, -4.39095999e+00, -1.04977922e+02, -6.97096297e+01,\n",
       "       -5.31914315e+01,  2.94662149e+00,  4.31088191e+00,  1.57251051e+01,\n",
       "       -3.96346279e+01, -3.96910629e+01, -5.40404126e+01, -8.99541528e+01,\n",
       "       -6.20615148e+00,  6.67569867e+01, -8.95692084e+01, -4.11226940e+01,\n",
       "        4.09168240e+01,  1.90455277e+01,  2.22414995e+00, -1.88830758e+01,\n",
       "        4.53393453e+00,  1.19747304e+00,  4.53646629e+01,  4.66777460e+01,\n",
       "        1.54560833e+01,  5.39062946e+01,  1.02823991e+02, -2.53079786e+01,\n",
       "        1.50536313e+01,  5.71511320e+01,  3.09710351e+01,  3.18365502e+01,\n",
       "       -5.02519275e+01,  4.95062060e+01,  5.62021765e+01,  2.90178172e+01,\n",
       "       -3.24755030e+01,  3.37164138e+01, -5.45674968e+01,  6.94295423e+00,\n",
       "        1.48369885e+02, -1.76105439e+01,  7.38833451e+01,  7.14654075e+01,\n",
       "        6.32250525e+01,  7.64254237e+00, -5.98747115e+01, -4.85113486e+01,\n",
       "       -1.94258088e+00, -6.83068746e+01,  4.96117043e+01, -3.29055711e+01,\n",
       "       -2.03601423e+01, -2.51384552e+01,  3.15687396e+01, -4.85077976e+01,\n",
       "        3.97318285e+01, -2.43273185e+01,  8.23744997e+01, -6.90727291e+01,\n",
       "       -2.83068450e+01, -7.21813654e+01, -3.77646972e+00,  3.09426900e+01,\n",
       "        5.99938245e+01, -5.04950434e+01, -4.38192337e+00,  5.81565805e+01,\n",
       "       -5.20245846e+01, -3.07173535e+01,  1.11145611e+01,  3.62027891e+01,\n",
       "       -9.53254745e+01, -4.76312521e+01, -1.66965627e+00, -2.91751063e+01,\n",
       "       -1.34498563e+01, -1.92281795e+01, -3.27658621e+01,  7.12437520e+01,\n",
       "        1.22470642e+01,  1.54765163e+01,  8.79152859e+01,  1.32558840e+01,\n",
       "       -1.14111444e+02, -7.84403788e+01, -6.00297297e+01, -2.48574506e+01,\n",
       "        5.68991960e+01, -7.58995600e+01,  7.64470163e+01,  7.59969474e+01,\n",
       "        2.50458478e+00, -2.28420867e+01,  1.01578872e+02,  8.86608696e+00,\n",
       "        6.96474799e+01, -4.52587398e+01, -1.05448994e+01, -1.12054780e+01,\n",
       "        5.34299130e+01,  2.72091278e+01,  5.44108346e+01,  1.20526374e+02,\n",
       "       -8.01781079e+01,  1.59696949e+01,  4.83738181e+01,  1.86075969e+01,\n",
       "       -2.41743169e+01, -3.57570608e+01,  1.38291329e+01,  6.21029995e+01,\n",
       "        7.84032159e+01,  3.89160540e+00,  2.24895979e+01,  1.11136830e+01,\n",
       "       -3.47954231e+01,  4.33478431e+01,  1.84283275e+01,  2.27197448e+01,\n",
       "        7.17859645e+01,  1.01193415e+02,  2.58839196e+00, -3.71417268e+00,\n",
       "       -1.40525232e+01,  4.53572887e+01, -3.12549869e+01, -1.70458957e+01,\n",
       "       -3.95749589e+01, -3.03676727e+01,  4.11327256e+01, -2.32671666e+01,\n",
       "       -2.26443088e+01, -1.65908718e+02, -1.77576490e+01,  3.89585649e+01,\n",
       "       -5.72512894e+01, -9.09834206e+00,  5.66203380e+01,  2.89746903e+01,\n",
       "        3.27064804e+01,  4.13727395e+01, -1.66719087e+00,  4.81072522e+01,\n",
       "        8.38979284e+01,  5.18495306e+01,  1.00976504e+02,  4.55401072e-01,\n",
       "       -3.23324895e+01, -4.90535303e-01,  1.67528588e+01,  9.86836575e+01,\n",
       "       -5.10829012e+01, -1.04182259e+01,  6.62905399e+01, -5.14727464e+01,\n",
       "       -1.01389395e+02,  4.10711074e+01,  3.04628337e+01, -6.24300583e+01,\n",
       "        6.45395772e+01,  6.12811400e+01, -1.65546675e+00,  1.71486765e+02,\n",
       "       -1.36445113e+01,  2.36201292e+01,  3.38174590e+01,  4.97536369e+01,\n",
       "       -8.60440390e+00,  7.12975792e+01, -6.76832385e+01,  5.22441093e+01,\n",
       "        2.36466725e+01,  1.64413810e+01, -6.08335570e+01,  6.21294407e+01,\n",
       "        1.92768174e+01, -8.13917339e+00,  7.84444974e+01,  3.51921421e+01,\n",
       "       -9.22888491e+00,  1.92733161e+01,  4.91063668e+01, -5.20421561e+00,\n",
       "       -4.96486422e-01,  2.04602889e+01,  1.66204558e+00,  6.54493565e+00,\n",
       "       -1.26037443e+01, -5.92690876e+00,  4.25059213e+01,  5.30191526e+01,\n",
       "        3.33519869e+01, -4.58883949e+01,  1.48306247e+01,  4.31338540e+01,\n",
       "       -4.67650944e+00, -2.94966311e+01,  1.12965783e+01,  2.85330756e+01,\n",
       "       -1.07727121e+01,  1.00097659e+02, -6.22071883e+01, -7.33725092e+01,\n",
       "        3.24377211e+00, -9.72331127e+00,  4.74128766e+01,  7.36865073e+01,\n",
       "       -3.29777910e+01, -1.34415924e+01, -7.58699064e+01, -7.09309633e+00,\n",
       "       -6.10503778e+01, -5.67508307e+01, -3.15760696e+00,  1.14051455e+01,\n",
       "        6.47245017e+01,  3.37804444e+01, -3.26424239e+01,  2.07513633e+01,\n",
       "        1.28651947e+01, -5.39264666e+00,  5.61115787e+00, -7.41954885e+01,\n",
       "       -9.42604453e+00,  1.98987512e+01, -3.47767723e+01,  4.29214208e+01,\n",
       "       -4.90277663e+01,  3.06042663e+01,  8.13945742e+00,  3.81388354e+01,\n",
       "       -4.65889690e+01,  2.30537642e+01, -1.91060661e+01,  6.80577879e+01,\n",
       "        3.63252493e+01,  2.82734993e+01,  5.26861529e+01,  7.75274977e+01,\n",
       "       -7.58809754e+00, -1.03120746e+02,  8.55457565e+01,  9.14834284e+01,\n",
       "       -3.76140934e+00,  1.52281479e+02,  5.97138635e+01, -4.82087117e+01,\n",
       "        9.68099277e+01,  3.43587505e+01,  9.62133939e+01, -3.78268633e+01,\n",
       "        6.44825594e+01,  6.17176168e+01,  5.87807375e+01, -6.10583731e+00,\n",
       "       -2.95720971e+01,  2.68509972e+01,  2.77944308e+01, -1.60391244e+01,\n",
       "       -2.10497407e+00, -4.37989323e+01, -2.66138596e+01,  3.83426611e+01,\n",
       "        5.00931088e+01,  1.65588591e+01, -1.00212092e+01,  1.66510340e+01,\n",
       "       -1.14570697e+01, -5.40603801e+01, -1.98243642e+01, -1.03484365e+01,\n",
       "        2.17813255e+01, -2.31775695e+00, -5.11095608e+00,  8.00536447e+01,\n",
       "       -1.51828847e+00, -3.69501087e+01, -3.41552200e+01,  1.83877622e+01,\n",
       "        2.33374061e+01, -7.56606680e+01,  9.37770906e+01,  1.93998130e+01,\n",
       "        5.29144328e+00, -5.39720792e+01, -4.59579360e+00,  4.75119811e+01,\n",
       "        1.05628924e+02,  7.30049094e+01,  2.43578717e+01,  3.14025463e+00,\n",
       "        2.37198392e+01,  2.53501870e+01, -5.24636184e+01,  4.45771409e+01,\n",
       "        1.39972923e+01, -3.29825442e+01, -2.94530990e+00,  7.87784670e+01,\n",
       "       -9.28703597e+01,  1.27535732e+02, -5.58961607e+01,  3.54113610e+01,\n",
       "       -4.15913701e+01,  2.48551276e+00,  1.29430510e+02, -3.46935765e+01,\n",
       "        1.90993478e+01, -5.36755300e+01, -8.25472919e+01,  2.85530125e+01,\n",
       "        2.58765964e+01, -1.00766659e+01, -1.44697744e+01,  2.92879411e+01,\n",
       "       -7.21982005e+01,  5.34555553e+01, -9.29375213e+00,  4.12125708e+01,\n",
       "       -1.76464978e+01,  1.98704654e+01, -4.83127655e+01,  1.60166618e+01,\n",
       "        1.37122615e+01, -6.49953226e+01, -3.62100720e+00,  6.03144917e+01,\n",
       "        9.72731615e+01,  3.80864770e+01,  2.16588595e+01, -4.55282121e+01,\n",
       "        1.58401029e+02, -6.67770844e+01, -8.77542925e+00, -3.20580469e+01,\n",
       "        3.18244033e+01, -8.96110394e+00, -4.81313261e+00, -5.02318638e+00,\n",
       "       -1.25756724e+01, -3.58437794e+01, -3.54818015e+01,  1.21680882e+01,\n",
       "        1.10322782e+02,  6.23854692e+01,  9.18695499e+01,  5.04082053e+01,\n",
       "        3.70919688e+01,  2.34087871e+01, -3.12534008e+01,  2.82090841e+00,\n",
       "        4.00824144e+01, -6.22884751e+01,  3.81769061e+00, -4.44346277e+01,\n",
       "        9.60218723e+01, -3.74648310e+01,  3.24413527e+01,  1.62680445e+01,\n",
       "        5.31874941e+01,  5.67066738e+01,  2.34225742e+01,  4.81391914e+01,\n",
       "       -2.94454727e+01,  2.04613866e+01,  2.22066232e+01, -5.95493089e+01,\n",
       "        1.44749841e+02,  1.13723403e+02,  3.07186239e+01,  1.33370764e+02,\n",
       "       -3.03418326e+01, -4.33117400e+01, -7.73148380e+01, -2.00187229e+01,\n",
       "       -2.45520851e+01,  6.81464300e+00,  6.51544207e+01, -6.22209320e+01,\n",
       "       -4.38249301e+01, -4.42611494e+01, -6.19184422e+01,  7.55395555e+01,\n",
       "        3.21224295e+01, -6.85498788e+01,  3.89245318e+01, -3.22134587e+01,\n",
       "        2.72478058e+01,  9.68751822e+01,  3.31925027e+01, -4.13651514e+01])"
      ]
     },
     "execution_count": 40,
     "metadata": {},
     "output_type": "execute_result"
    }
   ],
   "source": [
    "normal_generator(10, 50, 1000)"
   ]
  },
  {
   "cell_type": "code",
   "execution_count": 43,
   "metadata": {},
   "outputs": [
    {
     "data": {
      "text/plain": [
       "(array([ 1.,  0.,  3.,  1.,  2.,  1.,  1.,  0.,  9.,  7.,  9., 10., 13.,\n",
       "        17., 21., 25., 25., 26., 31., 38., 36., 40., 42., 49., 58., 54.,\n",
       "        31., 46., 56., 40., 53., 40., 26., 29., 29., 23., 20., 21., 13.,\n",
       "        12.,  7.,  6., 10.,  5.,  4.,  4.,  1.,  2.,  0.,  3.]),\n",
       " array([-144.54133108, -138.55644828, -132.57156548, -126.58668268,\n",
       "        -120.60179988, -114.61691709, -108.63203429, -102.64715149,\n",
       "         -96.66226869,  -90.67738589,  -84.6925031 ,  -78.7076203 ,\n",
       "         -72.7227375 ,  -66.7378547 ,  -60.7529719 ,  -54.76808911,\n",
       "         -48.78320631,  -42.79832351,  -36.81344071,  -30.82855791,\n",
       "         -24.84367512,  -18.85879232,  -12.87390952,   -6.88902672,\n",
       "          -0.90414392,    5.08073887,   11.06562167,   17.05050447,\n",
       "          23.03538727,   29.02027007,   35.00515286,   40.99003566,\n",
       "          46.97491846,   52.95980126,   58.94468406,   64.92956686,\n",
       "          70.91444965,   76.89933245,   82.88421525,   88.86909805,\n",
       "          94.85398085,  100.83886364,  106.82374644,  112.80862924,\n",
       "         118.79351204,  124.77839484,  130.76327763,  136.74816043,\n",
       "         142.73304323,  148.71792603,  154.70280883]),\n",
       " <BarContainer object of 50 artists>)"
      ]
     },
     "execution_count": 43,
     "metadata": {},
     "output_type": "execute_result"
    },
    {
     "data": {
      "image/png": "[encoded data removed]",
      "text/plain": [
       "<Figure size 1152x648 with 2 Axes>"
      ]
     },
     "metadata": {},
     "output_type": "display_data"
    }
   ],
   "source": [
    "fig, axs = plt.subplots(ncols=2)\n",
    "ax1 = plt.subplot(131)\n",
    "ax2 = plt.subplot(132)\n",
    "ax1.hist(normal_generator(10, 1, 1000), bins = 50)\n",
    "ax2.hist(normal_generator(10, 50, 1000), bins = 50)"
   ]
  },
  {
   "cell_type": "markdown",
   "metadata": {},
   "source": [
    "How are the two distributions different?"
   ]
  },
  {
   "cell_type": "code",
   "execution_count": null,
   "metadata": {},
   "outputs": [],
   "source": [
    "#The second one is more spread"
   ]
  },
  {
   "cell_type": "markdown",
   "metadata": {},
   "source": [
    "## Normal Distribution of Real Data\n",
    "\n",
    "In this challenge we are going to take a look the real data. We will use vehicles.csv file for this exercise"
   ]
  },
  {
   "cell_type": "markdown",
   "metadata": {},
   "source": [
    "First import vehicles.csv.\n",
    "Then plot the histograms for the following variables:\n",
    "\n",
    "1. Fuel Barrels/Year"
   ]
  },
  {
   "cell_type": "code",
   "execution_count": 53,
   "metadata": {},
   "outputs": [
    {
     "data": {
      "text/plain": [
       "array([[<AxesSubplot:title={'center':'Fuel Barrels/Year'}>]], dtype=object)"
      ]
     },
     "execution_count": 53,
     "metadata": {},
     "output_type": "execute_result"
    },
    {
     "data": {
      "image/png": "[encoded data removed]",
      "text/plain": [
       "<Figure size 1152x648 with 1 Axes>"
      ]
     },
     "metadata": {},
     "output_type": "display_data"
    }
   ],
   "source": [
    "import pandas as pd\n",
    "df = pd.read_csv(\"vehicles.csv\")\n",
    "df.hist(column=\"Fuel Barrels/Year\", bins=30)"
   ]
  },
  {
   "cell_type": "markdown",
   "metadata": {},
   "source": [
    "2. CO2 Emission Grams/Mile "
   ]
  },
  {
   "cell_type": "code",
   "execution_count": 54,
   "metadata": {},
   "outputs": [
    {
     "data": {
      "text/plain": [
       "array([[<AxesSubplot:title={'center':'CO2 Emission Grams/Mile'}>]],\n",
       "      dtype=object)"
      ]
     },
     "execution_count": 54,
     "metadata": {},
     "output_type": "execute_result"
    },
    {
     "data": {
      "image/png": "[encoded data removed]",
      "text/plain": [
       "<Figure size 1152x648 with 1 Axes>"
      ]
     },
     "metadata": {},
     "output_type": "display_data"
    }
   ],
   "source": [
    "df.hist(column=\"CO2 Emission Grams/Mile\", bins=30)"
   ]
  },
  {
   "cell_type": "markdown",
   "metadata": {},
   "source": [
    "3. Combined MPG"
   ]
  },
  {
   "cell_type": "code",
   "execution_count": 55,
   "metadata": {},
   "outputs": [
    {
     "data": {
      "text/plain": [
       "array([[<AxesSubplot:title={'center':'Combined MPG'}>]], dtype=object)"
      ]
     },
     "execution_count": 55,
     "metadata": {},
     "output_type": "execute_result"
    },
    {
     "data": {
      "image/png": "[encoded data removed]",
      "text/plain": [
       "<Figure size 1152x648 with 1 Axes>"
      ]
     },
     "metadata": {},
     "output_type": "display_data"
    }
   ],
   "source": [
    "df.hist(column=\"Combined MPG\", bins=30)"
   ]
  },
  {
   "cell_type": "markdown",
   "metadata": {},
   "source": [
    "Which one(s) of the variables are nearly normally distributed? How do you know?"
   ]
  },
  {
   "cell_type": "code",
   "execution_count": null,
   "metadata": {},
   "outputs": [],
   "source": [
    "#Any of them could be based on their histograms"
   ]
  },
  {
   "cell_type": "markdown",
   "metadata": {},
   "source": [
    "## Exponential Distribution"
   ]
  },
  {
   "cell_type": "markdown",
   "metadata": {},
   "source": [
    "1. Using `numpy.random.exponential`, create a function that returns a list of numbers exponentially distributed with the mean of 10. \n",
    "\n",
    "1. Use the function to generate two number sequences with the size of 10 and 100.\n",
    "\n",
    "1. Plot the distributions as histograms with the nubmer of bins as 100.\n",
    "\n",
    "Your output should look like below:\n",
    "\n",
    "![exponential distribution](ed.png)"
   ]
  },
  {
   "cell_type": "code",
   "execution_count": 74,
   "metadata": {},
   "outputs": [],
   "source": [
    "def exponential_sample(count):\n",
    "    return np.random.exponential(scale=10, size=count)"
   ]
  },
  {
   "cell_type": "code",
   "execution_count": 75,
   "metadata": {},
   "outputs": [
    {
     "data": {
      "text/plain": [
       "array([ 0.47591675,  7.28657237,  5.43462549, ...,  1.76279915,\n",
       "        5.51534253, 44.90157249])"
      ]
     },
     "execution_count": 75,
     "metadata": {},
     "output_type": "execute_result"
    }
   ],
   "source": [
    "exponential_sample(10000)"
   ]
  },
  {
   "cell_type": "code",
   "execution_count": 76,
   "metadata": {},
   "outputs": [
    {
     "data": {
      "text/plain": [
       "array([ 0.97533097,  5.82982135,  1.65293037, ..., 87.91204892,\n",
       "        0.86016073,  4.66747509])"
      ]
     },
     "execution_count": 76,
     "metadata": {},
     "output_type": "execute_result"
    }
   ],
   "source": [
    "exponential_sample(100000)"
   ]
  },
  {
   "cell_type": "code",
   "execution_count": 77,
   "metadata": {},
   "outputs": [
    {
     "data": {
      "text/plain": [
       "(array([1.1287e+04, 9.9910e+03, 9.0240e+03, 7.9630e+03, 6.9590e+03,\n",
       "        6.2600e+03, 5.5520e+03, 4.8820e+03, 4.3720e+03, 3.7440e+03,\n",
       "        3.3980e+03, 3.0730e+03, 2.6580e+03, 2.3310e+03, 2.0640e+03,\n",
       "        1.9040e+03, 1.6780e+03, 1.4530e+03, 1.3050e+03, 1.0850e+03,\n",
       "        9.7400e+02, 9.1800e+02, 7.9200e+02, 7.1700e+02, 6.2400e+02,\n",
       "        5.5200e+02, 5.0700e+02, 4.2600e+02, 3.8900e+02, 3.5100e+02,\n",
       "        3.1200e+02, 2.9200e+02, 2.4200e+02, 2.1200e+02, 1.9600e+02,\n",
       "        1.6200e+02, 1.3900e+02, 1.4400e+02, 1.1300e+02, 1.0200e+02,\n",
       "        1.0100e+02, 8.5000e+01, 8.5000e+01, 6.6000e+01, 6.1000e+01,\n",
       "        5.0000e+01, 4.3000e+01, 3.4000e+01, 3.9000e+01, 2.9000e+01,\n",
       "        4.8000e+01, 2.6000e+01, 1.7000e+01, 2.6000e+01, 2.2000e+01,\n",
       "        1.0000e+01, 1.6000e+01, 1.0000e+01, 1.5000e+01, 7.0000e+00,\n",
       "        8.0000e+00, 6.0000e+00, 3.0000e+00, 4.0000e+00, 3.0000e+00,\n",
       "        2.0000e+00, 3.0000e+00, 4.0000e+00, 4.0000e+00, 3.0000e+00,\n",
       "        1.0000e+00, 1.0000e+00, 4.0000e+00, 2.0000e+00, 0.0000e+00,\n",
       "        3.0000e+00, 0.0000e+00, 1.0000e+00, 1.0000e+00, 1.0000e+00,\n",
       "        2.0000e+00, 0.0000e+00, 2.0000e+00, 0.0000e+00, 1.0000e+00,\n",
       "        0.0000e+00, 1.0000e+00, 2.0000e+00, 0.0000e+00, 0.0000e+00,\n",
       "        0.0000e+00, 0.0000e+00, 0.0000e+00, 0.0000e+00, 0.0000e+00,\n",
       "        0.0000e+00, 0.0000e+00, 0.0000e+00, 0.0000e+00, 1.0000e+00]),\n",
       " array([4.74193366e-05, 1.20721649e+00, 2.41438557e+00, 3.62155464e+00,\n",
       "        4.82872372e+00, 6.03589279e+00, 7.24306187e+00, 8.45023094e+00,\n",
       "        9.65740002e+00, 1.08645691e+01, 1.20717382e+01, 1.32789072e+01,\n",
       "        1.44860763e+01, 1.56932454e+01, 1.69004145e+01, 1.81075835e+01,\n",
       "        1.93147526e+01, 2.05219217e+01, 2.17290908e+01, 2.29362598e+01,\n",
       "        2.41434289e+01, 2.53505980e+01, 2.65577671e+01, 2.77649361e+01,\n",
       "        2.89721052e+01, 3.01792743e+01, 3.13864434e+01, 3.25936124e+01,\n",
       "        3.38007815e+01, 3.50079506e+01, 3.62151197e+01, 3.74222887e+01,\n",
       "        3.86294578e+01, 3.98366269e+01, 4.10437960e+01, 4.22509650e+01,\n",
       "        4.34581341e+01, 4.46653032e+01, 4.58724723e+01, 4.70796413e+01,\n",
       "        4.82868104e+01, 4.94939795e+01, 5.07011486e+01, 5.19083176e+01,\n",
       "        5.31154867e+01, 5.43226558e+01, 5.55298249e+01, 5.67369939e+01,\n",
       "        5.79441630e+01, 5.91513321e+01, 6.03585011e+01, 6.15656702e+01,\n",
       "        6.27728393e+01, 6.39800084e+01, 6.51871774e+01, 6.63943465e+01,\n",
       "        6.76015156e+01, 6.88086847e+01, 7.00158537e+01, 7.12230228e+01,\n",
       "        7.24301919e+01, 7.36373610e+01, 7.48445300e+01, 7.60516991e+01,\n",
       "        7.72588682e+01, 7.84660373e+01, 7.96732063e+01, 8.08803754e+01,\n",
       "        8.20875445e+01, 8.32947136e+01, 8.45018826e+01, 8.57090517e+01,\n",
       "        8.69162208e+01, 8.81233899e+01, 8.93305589e+01, 9.05377280e+01,\n",
       "        9.17448971e+01, 9.29520662e+01, 9.41592352e+01, 9.53664043e+01,\n",
       "        9.65735734e+01, 9.77807425e+01, 9.89879115e+01, 1.00195081e+02,\n",
       "        1.01402250e+02, 1.02609419e+02, 1.03816588e+02, 1.05023757e+02,\n",
       "        1.06230926e+02, 1.07438095e+02, 1.08645264e+02, 1.09852433e+02,\n",
       "        1.11059602e+02, 1.12266771e+02, 1.13473940e+02, 1.14681110e+02,\n",
       "        1.15888279e+02, 1.17095448e+02, 1.18302617e+02, 1.19509786e+02,\n",
       "        1.20716955e+02]),\n",
       " <BarContainer object of 100 artists>)"
      ]
     },
     "execution_count": 77,
     "metadata": {},
     "output_type": "execute_result"
    },
    {
     "data": {
      "image/png": "[encoded data removed]",
      "text/plain": [
       "<Figure size 1152x648 with 2 Axes>"
      ]
     },
     "metadata": {},
     "output_type": "display_data"
    }
   ],
   "source": [
    "fig, axs = plt.subplots(ncols=2)\n",
    "ax1 = plt.subplot(131)\n",
    "ax2 = plt.subplot(132)\n",
    "ax1.hist(exponential_sample(1000), bins = 100)\n",
    "ax2.hist(exponential_sample(100000), bins = 100)"
   ]
  },
  {
   "cell_type": "markdown",
   "metadata": {},
   "source": [
    "How are the two distributions different?"
   ]
  },
  {
   "cell_type": "code",
   "execution_count": null,
   "metadata": {},
   "outputs": [],
   "source": [
    "#The sample of the second one has a higher count so it resembles the theoretical distribution more"
   ]
  },
  {
   "cell_type": "markdown",
   "metadata": {},
   "source": [
    "## Exponential Distribution of Real Data\n",
    "\n",
    "Suppose that the amount of time one spends in a bank is exponentially distributed with mean as 10 minutes (i.e. λ = 1/10). What is the probability that a customer will spend less than fifteen minutes in the bank? \n",
    "\n",
    "Write a code in python to solve this problem"
   ]
  },
  {
   "cell_type": "code",
   "execution_count": 79,
   "metadata": {},
   "outputs": [
    {
     "data": {
      "text/plain": [
       "0.7768698398515702"
      ]
     },
     "execution_count": 79,
     "metadata": {},
     "output_type": "execute_result"
    }
   ],
   "source": [
    "from scipy.stats import expon\n",
    "my_e = expon(scale=10)\n",
    "my_e.cdf(15)"
   ]
  },
  {
   "cell_type": "markdown",
   "metadata": {},
   "source": [
    "What is the probability that the customer will spend more than 15 minutes"
   ]
  },
  {
   "cell_type": "code",
   "execution_count": 80,
   "metadata": {},
   "outputs": [
    {
     "data": {
      "text/plain": [
       "0.2231301601484298"
      ]
     },
     "execution_count": 80,
     "metadata": {},
     "output_type": "execute_result"
    }
   ],
   "source": [
    "1-my_e.cdf(15)"
   ]
  }
 ],
 "metadata": {
  "kernelspec": {
   "display_name": "Python 3 (ipykernel)",
   "language": "python",
   "name": "python3"
  },
  "language_info": {
   "codemirror_mode": {
    "name": "ipython",
    "version": 3
   },
   "file_extension": ".py",
   "mimetype": "text/x-python",
   "name": "python",
   "nbconvert_exporter": "python",
   "pygments_lexer": "ipython3",
   "version": "3.9.12"
  }
 },
 "nbformat": 4,
 "nbformat_minor": 2
}
